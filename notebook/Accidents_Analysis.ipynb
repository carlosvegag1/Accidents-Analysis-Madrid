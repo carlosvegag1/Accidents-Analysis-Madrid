{
 "cells": [
  {
   "cell_type": "markdown",
   "metadata": {},
   "source": [
    "<h1><center><font color='#DE2138'>Accidents_Analysis.ipynb</font></center></h1>\n",
    "\n",
    "\n",
    "# Índice de contenidos\n",
    "\n",
    "1. [Carga todos los csv en un único DataFrame](Carlos_Vega_Gonzalez_Evaluacion_Final.ipynb#carga)\n",
    "2. [Eliminación de columnas referidas a coordenadas](Carlos_Vega_Gonzalez_Evaluacion_Final.ipynb#eliminacion-coordenadas)\n",
    "3. [Reestructuración de la columna tipo de vehículo](Carlos_Vega_Gonzalez_Evaluacion_Final.ipynb#reestructuracion-vehiculos)\n",
    "4. [Análisis de valores nulos](Carlos_Vega_Gonzalez_Evaluacion_Final.ipynb#valores-nulos)\n",
    "5. [Reducción de categorías en la columna tipo accidente](Carlos_Vega_Gonzalez_Evaluacion_Final.ipynb#reduccion-tipo-accidente)\n",
    "6. [Análisis de positivos en alcohol y drogas](Carlos_Vega_Gonzalez_Evaluacion_Final.ipynb#positivos-alcohol-drogas)\n",
    "7. [Tipos de accidente más comunes según alcohol](Carlos_Vega_Gonzalez_Evaluacion_Final.ipynb#tipos-accidente-alcohol)\n",
    "8. [Visualización: Accidentes por estado meteorológico](Carlos_Vega_Gonzalez_Evaluacion_Final.ipynb#visualizacion-meteorologia)\n",
    "9. [Análisis de accidentes múltiples](Carlos_Vega_Gonzalez_Evaluacion_Final.ipynb#accidentes-multiples)\n",
    "10. [Horas más peligrosas para circular en Madrid](Carlos_Vega_Gonzalez_Evaluacion_Final.ipynb#horas-peligrosas)"
   ]
  },
  {
   "cell_type": "markdown",
   "metadata": {},
   "source": [
    "---\n",
    "\n",
    "## <h2 id=\"carga\"><center><font color='#1E90FF'>1. Carga todos los csv en un único DataFrame</font></center></h2>\n",
    "\n",
    "Para iniciar el análisis, cargué los datasets correspondientes a los años **2019-2024** en un único DataFrame. Aunque en un futuro me gustaría explorar la posibilidad de normalizar datos de años previos, decidí enfocarme en este rango temporal por las diferencias en las columnas.\n",
    "\n",
    "Utilicé un bucle compacto para leer y concatenar los archivos mediante la función `read_csv`. Posteriormente, con `shape` e `info`, comprobé el número de filas y columnas del DataFrame resultante, facilitando el control del proceso.\n",
    "\n",
    "### ¿Cómo resolví el ejercicio?\n",
    "En esta primera parte, mi objetivo fue unificar los datos de varios ficheros *.csv* en un único DataFrame para su posterior análisis. Para ello, seguí estos pasos básicos:\n",
    "\n",
    "1. Definí la lista de archivos *.csv* en un array de Python.\n",
    "2. Utilicé comprensión de listas para cargar cada archivo con `pd.read_csv()`.\n",
    "3. Unifiqué toda la información mediante `pd.concat()`.\n",
    "4. Verifiqué la estructura y tamaño del DataFrame con `df.shape` y `df.info()`.\n",
    "\n",
    "### Características del código\n",
    "- **Eficiencia y legibilidad:** El bucle de lectura con comprensión de listas facilita un código conciso.\n",
    "- **Uso de `delimiter=\";\"`:** Asegura la correcta separación de columnas según el formato de los ficheros.\n",
    "- **Control de índices duplicados:** Con `ignore_index=True`, garantizo una indexación coherente en el DataFrame final.\n"
   ]
  },
  {
   "cell_type": "code",
   "execution_count": 3,
   "metadata": {},
   "outputs": [],
   "source": [
    "import numpy as np\n",
    "import matplotlib as plt\n",
    "import pandas as pd"
   ]
  },
  {
   "cell_type": "code",
   "execution_count": 4,
   "metadata": {},
   "outputs": [
    {
     "name": "stdout",
     "output_type": "stream",
     "text": [
      "---El dataframe tiene 266618 filas y 19 columnas---\n",
      "\n",
      "<class 'pandas.core.frame.DataFrame'>\n",
      "RangeIndex: 266618 entries, 0 to 266617\n",
      "Data columns (total 19 columns):\n",
      " #   Column                Non-Null Count   Dtype  \n",
      "---  ------                --------------   -----  \n",
      " 0   num_expediente        266618 non-null  object \n",
      " 1   fecha                 266618 non-null  object \n",
      " 2   hora                  266618 non-null  object \n",
      " 3   localizacion          266618 non-null  object \n",
      " 4   numero                266610 non-null  object \n",
      " 5   cod_distrito          266610 non-null  float64\n",
      " 6   distrito              266610 non-null  object \n",
      " 7   tipo_accidente        266611 non-null  object \n",
      " 8   estado_meteorológico  237631 non-null  object \n",
      " 9   tipo_vehiculo         265309 non-null  object \n",
      " 10  tipo_persona          266615 non-null  object \n",
      " 11  rango_edad            266618 non-null  object \n",
      " 12  sexo                  266618 non-null  object \n",
      " 13  cod_lesividad         146213 non-null  float64\n",
      " 14  lesividad             146213 non-null  object \n",
      " 15  coordenada_x_utm      266575 non-null  object \n",
      " 16  coordenada_y_utm      266575 non-null  object \n",
      " 17  positiva_alcohol      265684 non-null  object \n",
      " 18  positiva_droga        873 non-null     float64\n",
      "dtypes: float64(3), object(16)\n",
      "memory usage: 38.6+ MB\n"
     ]
    }
   ],
   "source": [
    "todos_csv = [\"2019_Accidentalidad.csv\",\"2020_Accidentalidad.csv\",\"2021_Accidentalidad.csv\",\n",
    "             \"2022_Accidentalidad.csv\",\"2023_Accidentalidad.csv\",\"2024_Accidentalidad.csv\",]\n",
    "\n",
    "lectura_csv = [pd.read_csv(csv,delimiter = \";\") for csv in todos_csv]\n",
    "df = pd.concat(lectura_csv, ignore_index = True)\n",
    "\n",
    "print(f\"---El dataframe tiene {df.shape[0]} filas y {df.shape[1]} columnas---\\n\")\n",
    "\n",
    "df.info()\n",
    "\n"
   ]
  },
  {
   "cell_type": "markdown",
   "metadata": {},
   "source": [
    "---\n",
    "\n",
    "## <h2><center><font color='#1E90FF'>2. Eliminación de columnas referidas a coordenadas</font></center></h2>\n",
    "\n",
    "El siguiente paso fue eliminar las columnas relacionadas con coordenadas *(coordenada_x_utm, coordenada_y_utm)*, ya que no aportaban valor al análisis propuesto. Para ello, usé la función `drop`, almacenando primero los nombres de las columnas en una lista para mayor claridad y manipulación.\n",
    "\n",
    "Realicé comprobaciones constantes a lo largo de todo el ejercicio con `head` para verificar que los cambios se aplicaron correctamente.\n",
    "\n",
    "### ¿Cómo resolví el ejercicio?\n",
    "En esta etapa, identifiqué qué columnas eran irrelevantes para el análisis y procedí a su eliminación. De esta forma, mantuve el DataFrame lo más limpio posible.\n",
    "\n",
    "### Características del código\n",
    "- **Uso de listas y `drop()`:** Permite eliminar varias columnas al mismo tiempo.  \n",
    "- **In-place vs. asignación:** Decidí emplear `inplace=True` para simplificar la eliminación y no reasignar a una nueva variable."
   ]
  },
  {
   "cell_type": "code",
   "execution_count": 5,
   "metadata": {},
   "outputs": [
    {
     "data": {
      "text/html": [
       "<div>\n",
       "<style scoped>\n",
       "    .dataframe tbody tr th:only-of-type {\n",
       "        vertical-align: middle;\n",
       "    }\n",
       "\n",
       "    .dataframe tbody tr th {\n",
       "        vertical-align: top;\n",
       "    }\n",
       "\n",
       "    .dataframe thead th {\n",
       "        text-align: right;\n",
       "    }\n",
       "</style>\n",
       "<table border=\"1\" class=\"dataframe\">\n",
       "  <thead>\n",
       "    <tr style=\"text-align: right;\">\n",
       "      <th></th>\n",
       "      <th>num_expediente</th>\n",
       "      <th>fecha</th>\n",
       "      <th>hora</th>\n",
       "      <th>localizacion</th>\n",
       "      <th>numero</th>\n",
       "      <th>cod_distrito</th>\n",
       "      <th>distrito</th>\n",
       "      <th>tipo_accidente</th>\n",
       "      <th>estado_meteorológico</th>\n",
       "      <th>tipo_vehiculo</th>\n",
       "      <th>tipo_persona</th>\n",
       "      <th>rango_edad</th>\n",
       "      <th>sexo</th>\n",
       "      <th>cod_lesividad</th>\n",
       "      <th>lesividad</th>\n",
       "      <th>positiva_alcohol</th>\n",
       "      <th>positiva_droga</th>\n",
       "    </tr>\n",
       "  </thead>\n",
       "  <tbody>\n",
       "    <tr>\n",
       "      <th>0</th>\n",
       "      <td>2018S017842</td>\n",
       "      <td>04/02/2019</td>\n",
       "      <td>9:10:00</td>\n",
       "      <td>CALL. ALBERTO AGUILERA, 1</td>\n",
       "      <td>1</td>\n",
       "      <td>1.0</td>\n",
       "      <td>CENTRO</td>\n",
       "      <td>Colisión lateral</td>\n",
       "      <td>Despejado</td>\n",
       "      <td>Motocicleta &gt; 125cc</td>\n",
       "      <td>Conductor</td>\n",
       "      <td>De 45 a 49 años</td>\n",
       "      <td>Hombre</td>\n",
       "      <td>7.0</td>\n",
       "      <td>Asistencia sanitaria sólo en el lugar del acci...</td>\n",
       "      <td>N</td>\n",
       "      <td>NaN</td>\n",
       "    </tr>\n",
       "    <tr>\n",
       "      <th>1</th>\n",
       "      <td>2018S017842</td>\n",
       "      <td>04/02/2019</td>\n",
       "      <td>9:10:00</td>\n",
       "      <td>CALL. ALBERTO AGUILERA, 1</td>\n",
       "      <td>1</td>\n",
       "      <td>1.0</td>\n",
       "      <td>CENTRO</td>\n",
       "      <td>Colisión lateral</td>\n",
       "      <td>Despejado</td>\n",
       "      <td>Turismo</td>\n",
       "      <td>Conductor</td>\n",
       "      <td>De 30 a 34 años</td>\n",
       "      <td>Mujer</td>\n",
       "      <td>7.0</td>\n",
       "      <td>Asistencia sanitaria sólo en el lugar del acci...</td>\n",
       "      <td>N</td>\n",
       "      <td>NaN</td>\n",
       "    </tr>\n",
       "    <tr>\n",
       "      <th>2</th>\n",
       "      <td>2019S000001</td>\n",
       "      <td>01/01/2019</td>\n",
       "      <td>3:45:00</td>\n",
       "      <td>PASEO. SANTA MARIA DE LA CABEZA / PLAZA. ELIPTICA</td>\n",
       "      <td>168</td>\n",
       "      <td>11.0</td>\n",
       "      <td>CARABANCHEL</td>\n",
       "      <td>Alcance</td>\n",
       "      <td>NaN</td>\n",
       "      <td>Furgoneta</td>\n",
       "      <td>Conductor</td>\n",
       "      <td>De 40 a 44 años</td>\n",
       "      <td>Hombre</td>\n",
       "      <td>NaN</td>\n",
       "      <td>NaN</td>\n",
       "      <td>S</td>\n",
       "      <td>NaN</td>\n",
       "    </tr>\n",
       "  </tbody>\n",
       "</table>\n",
       "</div>"
      ],
      "text/plain": [
       "  num_expediente       fecha     hora  \\\n",
       "0    2018S017842  04/02/2019  9:10:00   \n",
       "1    2018S017842  04/02/2019  9:10:00   \n",
       "2    2019S000001  01/01/2019  3:45:00   \n",
       "\n",
       "                                        localizacion numero  cod_distrito  \\\n",
       "0                          CALL. ALBERTO AGUILERA, 1      1           1.0   \n",
       "1                          CALL. ALBERTO AGUILERA, 1      1           1.0   \n",
       "2  PASEO. SANTA MARIA DE LA CABEZA / PLAZA. ELIPTICA    168          11.0   \n",
       "\n",
       "      distrito    tipo_accidente estado_meteorológico        tipo_vehiculo  \\\n",
       "0       CENTRO  Colisión lateral            Despejado  Motocicleta > 125cc   \n",
       "1       CENTRO  Colisión lateral            Despejado              Turismo   \n",
       "2  CARABANCHEL           Alcance                  NaN            Furgoneta   \n",
       "\n",
       "  tipo_persona       rango_edad    sexo  cod_lesividad  \\\n",
       "0    Conductor  De 45 a 49 años  Hombre            7.0   \n",
       "1    Conductor  De 30 a 34 años   Mujer            7.0   \n",
       "2    Conductor  De 40 a 44 años  Hombre            NaN   \n",
       "\n",
       "                                           lesividad positiva_alcohol  \\\n",
       "0  Asistencia sanitaria sólo en el lugar del acci...                N   \n",
       "1  Asistencia sanitaria sólo en el lugar del acci...                N   \n",
       "2                                                NaN                S   \n",
       "\n",
       "   positiva_droga  \n",
       "0             NaN  \n",
       "1             NaN  \n",
       "2             NaN  "
      ]
     },
     "execution_count": 5,
     "metadata": {},
     "output_type": "execute_result"
    }
   ],
   "source": [
    "columnas_coordenadas = [\"coordenada_x_utm\",\"coordenada_y_utm\"]\n",
    "df.drop(columnas_coordenadas, axis = 1, inplace = True)\n",
    "\n",
    "df.head(3)"
   ]
  },
  {
   "cell_type": "markdown",
   "metadata": {},
   "source": [
    "---\n",
    "\n",
    "## <h2><center><font color='#1E90FF'>3. Reestructuración de la columna tipo de vehículo</font></center></h2>\n",
    "\n",
    "En este punto, abordé la reducción de las categorías en la columna `\"tipo_vehiculo\"`. El objetivo fue agrupar subcategorías redundantes en **seis categorías principales**. Finalmente, decidí crear una nueva columna `\"tipo_vehiculo_reducido\"` para conservar la información original y evitar pérdidas de datos valiosos.\n",
    "\n",
    "### ¿Cómo resolví el ejercicio?\n",
    "Para lograrlo, primero listé las categorías originales mediante `unique()`. Posteriormente, redacté un diccionario de mapeo manual que agrupa distintas variaciones de vehículos en categorías más representativas. De esta manera, simplifiqué los análisis estadísticos.\n",
    "\n",
    "### Características del código\n",
    "- **Uso de `unique()` para explorar categorías:** Me ayudó a verificar la extensión y variedad de valores existentes.  \n",
    "- **Creación de una nueva columna:** Mantener el dato original en “tipo_vehiculo” y colocar la versión resumida en “tipo_vehiculo_reducido”.  \n",
    "- **Diccionario de mapeo manual:** Evité errores tipográficos y categorizaciones incorrectas al redactar cuidadosamente las claves y valores."
   ]
  },
  {
   "cell_type": "code",
   "execution_count": 6,
   "metadata": {},
   "outputs": [
    {
     "data": {
      "text/plain": [
       "array(['Motocicleta > 125cc', 'Turismo', 'Furgoneta', 'Autobús',\n",
       "       'Ciclomotor', 'Motocicleta hasta 125cc', 'Todo terreno',\n",
       "       'Bicicleta', 'Camión rígido', 'Maquinaria de obras',\n",
       "       'Tractocamión', nan, 'Cuadriciclo no ligero',\n",
       "       'Vehículo articulado', 'Autobús articulado',\n",
       "       'Otros vehículos con motor', 'Autocaravana', 'Patinete', 'Ciclo',\n",
       "       'Cuadriciclo ligero', 'VMU eléctrico', 'Semiremolque',\n",
       "       'Microbús <= 17 plazas', 'Sin especificar', 'Autobus EMT',\n",
       "       'Remolque', 'Tranvía', 'Caravana', 'Camión de bomberos',\n",
       "       'Otros vehículos sin motor', 'Bicicleta EPAC (pedaleo asistido)',\n",
       "       'Moto de tres ruedas > 125cc', 'Tren/metro', 'Ambulancia SAMUR',\n",
       "       'Moto de tres ruedas hasta 125cc',\n",
       "       'Ciclomotor de dos ruedas L1e-B', 'Maquinaria agrícola',\n",
       "       'Autobús articulado EMT', 'Ciclomotor de tres ruedas',\n",
       "       'Ciclo de motor L1e-A', 'Patinete no eléctrico'], dtype=object)"
      ]
     },
     "execution_count": 6,
     "metadata": {},
     "output_type": "execute_result"
    }
   ],
   "source": [
    "df.tipo_vehiculo.unique()"
   ]
  },
  {
   "cell_type": "code",
   "execution_count": 7,
   "metadata": {},
   "outputs": [
    {
     "name": "stdout",
     "output_type": "stream",
     "text": [
      "Frecuencia de las nuevas categorías:\n",
      "tipo_vehiculo_reducido\n",
      "Turismo          188236\n",
      "Motocicleta       33113\n",
      "Furgoneta         17263\n",
      "Camión             8604\n",
      "Autobús            7588\n",
      "Bicicleta          5622\n",
      "Otro vehículo      4651\n",
      "Name: count, dtype: int64\n",
      "\n",
      "Porcentaje de las nuevas categorías:\n",
      "tipo_vehiculo_reducido\n",
      "Turismo           70.6%\n",
      "Motocicleta      12.42%\n",
      "Furgoneta         6.47%\n",
      "Camión            3.23%\n",
      "Autobús           2.85%\n",
      "Bicicleta         2.11%\n",
      "Otro vehículo     1.74%\n",
      "Name: count, dtype: object\n"
     ]
    }
   ],
   "source": [
    "diccionario_mapeo = {\n",
    "    'Motocicleta > 125cc': 'Motocicleta',\n",
    "    'Motocicleta hasta 125cc': 'Motocicleta',\n",
    "    'Ciclomotor': 'Motocicleta',\n",
    "    'Moto de tres ruedas > 125cc': 'Motocicleta',\n",
    "    'Ciclomotor de dos ruedas L1e-B': 'Motocicleta',\n",
    "    'Moto de tres ruedas hasta 125cc': 'Motocicleta',\n",
    "    'Ciclo de motor L1e-A': 'Motocicleta',\n",
    "\n",
    "    'Bicicleta': 'Bicicleta',\n",
    "    'Bicicleta EPAC (pedaleo asistido)': 'Bicicleta',\n",
    "    'Ciclo': 'Bicicleta',\n",
    "    'Patinete': 'Bicicleta',\n",
    "    'Patinete no eléctrico': 'Bicicleta',\n",
    "\n",
    "    'Camión rígido': 'Camión',\n",
    "    'Tractocamión': 'Camión',\n",
    "    'Vehículo articulado': 'Camión',\n",
    "    'Maquinaria de obras': 'Camión',\n",
    "    'Maquinaria agrícola': 'Camión',\n",
    "    'Remolque': 'Camión',\n",
    "    'Semiremolque': 'Camión',\n",
    "\n",
    "    'Autobús': 'Autobús',\n",
    "    'Autobús articulado': 'Autobús',\n",
    "    'Autobús EMT': 'Autobús',\n",
    "    'Autobús articulado EMT': 'Autobús',\n",
    "    'Microbús <= 17 plazas': 'Autobús',\n",
    "    'Tranvía': 'Autobús',\n",
    "    'Tren/metro': 'Autobús',\n",
    "\n",
    "    'Turismo': 'Turismo',\n",
    "    'Furgoneta': 'Furgoneta',\n",
    "    'Todo terreno': 'Turismo',\n",
    "    'Autocaravana': 'Turismo',\n",
    "    'Caravana': 'Turismo',\n",
    "\n",
    "    'Cuadriciclo ligero': 'Otro vehículo',\n",
    "    'Cuadriciclo no ligero': 'Otro vehículo',\n",
    "    'VMU eléctrico': 'Otro vehículo',\n",
    "    'Otros vehículos con motor': 'Otro vehículo',\n",
    "    'Otros vehículos sin motor': 'Otro vehículo',\n",
    "    'Ambulancia SAMUR': 'Otro vehículo',\n",
    "    'Camión de bomberos': 'Otro vehículo',\n",
    "    'Sin especificar': 'Otro vehículo',\n",
    "    'nan': 'Otro vehículo'\n",
    "}\n",
    "\n",
    "\n",
    "df.insert(df.columns.get_loc(\"tipo_vehiculo\") + 1, \"tipo_vehiculo_reducido\", df[\"tipo_vehiculo\"].map(diccionario_mapeo))\n",
    "\n",
    "\n",
    "frecuencia_tipos = df[\"tipo_vehiculo_reducido\"].value_counts()\n",
    "porcentajes_tipos = (frecuencia_tipos / len(df) * 100).round(2).astype(str) + \"%\"\n",
    "\n",
    "\n",
    "print(\"Frecuencia de las nuevas categorías:\")\n",
    "print(frecuencia_tipos)\n",
    "\n",
    "print(\"\\nPorcentaje de las nuevas categorías:\")\n",
    "print(porcentajes_tipos)\n"
   ]
  },
  {
   "cell_type": "code",
   "execution_count": 8,
   "metadata": {},
   "outputs": [
    {
     "data": {
      "text/html": [
       "<div>\n",
       "<style scoped>\n",
       "    .dataframe tbody tr th:only-of-type {\n",
       "        vertical-align: middle;\n",
       "    }\n",
       "\n",
       "    .dataframe tbody tr th {\n",
       "        vertical-align: top;\n",
       "    }\n",
       "\n",
       "    .dataframe thead th {\n",
       "        text-align: right;\n",
       "    }\n",
       "</style>\n",
       "<table border=\"1\" class=\"dataframe\">\n",
       "  <thead>\n",
       "    <tr style=\"text-align: right;\">\n",
       "      <th></th>\n",
       "      <th>num_expediente</th>\n",
       "      <th>fecha</th>\n",
       "      <th>hora</th>\n",
       "      <th>localizacion</th>\n",
       "      <th>numero</th>\n",
       "      <th>cod_distrito</th>\n",
       "      <th>distrito</th>\n",
       "      <th>tipo_accidente</th>\n",
       "      <th>estado_meteorológico</th>\n",
       "      <th>tipo_vehiculo</th>\n",
       "      <th>tipo_vehiculo_reducido</th>\n",
       "      <th>tipo_persona</th>\n",
       "      <th>rango_edad</th>\n",
       "      <th>sexo</th>\n",
       "      <th>cod_lesividad</th>\n",
       "      <th>lesividad</th>\n",
       "      <th>positiva_alcohol</th>\n",
       "      <th>positiva_droga</th>\n",
       "    </tr>\n",
       "  </thead>\n",
       "  <tbody>\n",
       "    <tr>\n",
       "      <th>0</th>\n",
       "      <td>2018S017842</td>\n",
       "      <td>04/02/2019</td>\n",
       "      <td>9:10:00</td>\n",
       "      <td>CALL. ALBERTO AGUILERA, 1</td>\n",
       "      <td>1</td>\n",
       "      <td>1.0</td>\n",
       "      <td>CENTRO</td>\n",
       "      <td>Colisión lateral</td>\n",
       "      <td>Despejado</td>\n",
       "      <td>Motocicleta &gt; 125cc</td>\n",
       "      <td>Motocicleta</td>\n",
       "      <td>Conductor</td>\n",
       "      <td>De 45 a 49 años</td>\n",
       "      <td>Hombre</td>\n",
       "      <td>7.0</td>\n",
       "      <td>Asistencia sanitaria sólo en el lugar del acci...</td>\n",
       "      <td>N</td>\n",
       "      <td>NaN</td>\n",
       "    </tr>\n",
       "    <tr>\n",
       "      <th>1</th>\n",
       "      <td>2018S017842</td>\n",
       "      <td>04/02/2019</td>\n",
       "      <td>9:10:00</td>\n",
       "      <td>CALL. ALBERTO AGUILERA, 1</td>\n",
       "      <td>1</td>\n",
       "      <td>1.0</td>\n",
       "      <td>CENTRO</td>\n",
       "      <td>Colisión lateral</td>\n",
       "      <td>Despejado</td>\n",
       "      <td>Turismo</td>\n",
       "      <td>Turismo</td>\n",
       "      <td>Conductor</td>\n",
       "      <td>De 30 a 34 años</td>\n",
       "      <td>Mujer</td>\n",
       "      <td>7.0</td>\n",
       "      <td>Asistencia sanitaria sólo en el lugar del acci...</td>\n",
       "      <td>N</td>\n",
       "      <td>NaN</td>\n",
       "    </tr>\n",
       "    <tr>\n",
       "      <th>2</th>\n",
       "      <td>2019S000001</td>\n",
       "      <td>01/01/2019</td>\n",
       "      <td>3:45:00</td>\n",
       "      <td>PASEO. SANTA MARIA DE LA CABEZA / PLAZA. ELIPTICA</td>\n",
       "      <td>168</td>\n",
       "      <td>11.0</td>\n",
       "      <td>CARABANCHEL</td>\n",
       "      <td>Alcance</td>\n",
       "      <td>NaN</td>\n",
       "      <td>Furgoneta</td>\n",
       "      <td>Furgoneta</td>\n",
       "      <td>Conductor</td>\n",
       "      <td>De 40 a 44 años</td>\n",
       "      <td>Hombre</td>\n",
       "      <td>NaN</td>\n",
       "      <td>NaN</td>\n",
       "      <td>S</td>\n",
       "      <td>NaN</td>\n",
       "    </tr>\n",
       "  </tbody>\n",
       "</table>\n",
       "</div>"
      ],
      "text/plain": [
       "  num_expediente       fecha     hora  \\\n",
       "0    2018S017842  04/02/2019  9:10:00   \n",
       "1    2018S017842  04/02/2019  9:10:00   \n",
       "2    2019S000001  01/01/2019  3:45:00   \n",
       "\n",
       "                                        localizacion numero  cod_distrito  \\\n",
       "0                          CALL. ALBERTO AGUILERA, 1      1           1.0   \n",
       "1                          CALL. ALBERTO AGUILERA, 1      1           1.0   \n",
       "2  PASEO. SANTA MARIA DE LA CABEZA / PLAZA. ELIPTICA    168          11.0   \n",
       "\n",
       "      distrito    tipo_accidente estado_meteorológico        tipo_vehiculo  \\\n",
       "0       CENTRO  Colisión lateral            Despejado  Motocicleta > 125cc   \n",
       "1       CENTRO  Colisión lateral            Despejado              Turismo   \n",
       "2  CARABANCHEL           Alcance                  NaN            Furgoneta   \n",
       "\n",
       "  tipo_vehiculo_reducido tipo_persona       rango_edad    sexo  cod_lesividad  \\\n",
       "0            Motocicleta    Conductor  De 45 a 49 años  Hombre            7.0   \n",
       "1                Turismo    Conductor  De 30 a 34 años   Mujer            7.0   \n",
       "2              Furgoneta    Conductor  De 40 a 44 años  Hombre            NaN   \n",
       "\n",
       "                                           lesividad positiva_alcohol  \\\n",
       "0  Asistencia sanitaria sólo en el lugar del acci...                N   \n",
       "1  Asistencia sanitaria sólo en el lugar del acci...                N   \n",
       "2                                                NaN                S   \n",
       "\n",
       "   positiva_droga  \n",
       "0             NaN  \n",
       "1             NaN  \n",
       "2             NaN  "
      ]
     },
     "execution_count": 8,
     "metadata": {},
     "output_type": "execute_result"
    }
   ],
   "source": [
    "df.head(3)"
   ]
  },
  {
   "cell_type": "markdown",
   "metadata": {},
   "source": [
    "#### Mención especial a mi intento fallido de automatizar el mapeo\n",
    "Me parecía interesante dejar reflejado que intenté generar de forma interactiva el diccionario de mapeo definiendo una función, pero resultó más costoso en tiempo y más propenso a errores (ya que cada vez que me equivocaba mientras se ejecutaba la función tenía que volver a reiniciarla). Por eso, concluí que un **enfoque manual** era más adecuado en este caso."
   ]
  },
  {
   "cell_type": "code",
   "execution_count": 9,
   "metadata": {},
   "outputs": [],
   "source": [
    "def generar_diccionario_mapeo(columna):\n",
    "\n",
    "    \"\"\"\n",
    "    Genera un diccionario de mapeo para reducir categorías en una columna dada.\n",
    "\n",
    "    Parámetros:\n",
    "    columna (pd.Series): Columna del DataFrame que contiene las categorías a reducir.\n",
    "\n",
    "    Retorna:\n",
    "    dict: Diccionario con las categorías originales como claves y las categorías reducidas como valores.\n",
    "    \"\"\"\n",
    "    \n",
    "    categorias_unicas = columna.unique()\n",
    "    print(\"Primero, hay que definir las categorías en las que se va a reducir esta columna:\")\n",
    "    categorias = []\n",
    "    numero_categorias = int(input(\"¿Cuántas categorías principales deseas definir? \"))\n",
    "    for i in range(numero_categorias):\n",
    "        cat = input(f\"Introduce la categoría principal {i + 1}: \")\n",
    "        categorias.append(cat)\n",
    "\n",
    "    mapeo = {}\n",
    "    print(\"\\nAhora, vamos a asignar las categorías:\")\n",
    "    for categoria in categorias_unicas:\n",
    "        print(f\"\\nTienes que reestructurar la categoría: {categoria}\")\n",
    "        print(\"Recuerda, debes escoger entre estas:\")\n",
    "        for i, principal in enumerate(categorias, start=1):\n",
    "            print(f\"{i} = {principal}\")\n",
    "        while True:\n",
    "            try:\n",
    "                opcion = int(input(f\"¿A qué categoría se asignará '{categoria}'? (Teclea el número): \"))\n",
    "                if 1 <= opcion <= len(categorias):\n",
    "                    mapeo[categoria] = categorias[opcion - 1]\n",
    "                    break\n",
    "                else:\n",
    "                    print(\"Opción fuera de rango. Inténtalo de nuevo.\")\n",
    "            except ValueError:\n",
    "                print(\"Entrada no válida. Teclea un número.\")\n",
    "\n",
    "    return mapeo\n"
   ]
  },
  {
   "cell_type": "code",
   "execution_count": 10,
   "metadata": {},
   "outputs": [],
   "source": [
    "# generar_diccionario_mapeo(df.tipo_vehiculo)"
   ]
  },
  {
   "cell_type": "markdown",
   "metadata": {},
   "source": [
    "---\n",
    "\n",
    "## <h2><center><font color='#1E90FF'>4. Análisis de valores nulos</font></center></h2>\n",
    "\n",
    "En esta sección, inspeccioné los valores nulos y los traté según era necesario para cada columna:\n",
    "\n",
    "- **positiva_droga:** Rellenar con `0`.  \n",
    "- **positiva_alcohol:** Rellenar con `\"N\"`.  \n",
    "- **lesividad:** Rellenar con `\"Sin atención sanitaria\"` y `0` en el código.  \n",
    "- **estado_meteorológico:** Usar la categoría `\"Se desconoce\"`.  \n",
    "- **Otros nulos:** Eliminar las filas correspondientes.\n",
    "\n",
    "### ¿Cómo resolví el ejercicio?\n",
    "En primer lugar, utilicé `fillna()` para cada columna específica con la estrategia de sustitución indicada. Para aquellos nulos no contemplados en la instrucción, opté por `dropna()`. Finalmente, revisé el tamaño final del DataFrame con `df.shape` y validé la integridad de la información.\n",
    "\n",
    "### Características del código\n",
    "- **Sustituciones directas con `fillna()`:** Permite asignar valores por defecto.  \n",
    "- **Evitando problemas con `inplace=True`:** Preferí re-asignar columnas directamente, manteniendo un flujo más seguro para versiones futuras de pandas.  \n",
    "- **Control final del tamaño del DataFrame:** Con `df.info()` y `df.shape`, corroboro que no haya inconsistencias.\n"
   ]
  },
  {
   "cell_type": "code",
   "execution_count": 11,
   "metadata": {},
   "outputs": [
    {
     "name": "stdout",
     "output_type": "stream",
     "text": [
      "Ahora tengo 265059 filas y 18 columnas\n"
     ]
    }
   ],
   "source": [
    "# Para la columna positivo droga, rellena los nulos con 0.\n",
    "df[\"positiva_droga\"] = df[\"positiva_droga\"].fillna(0)\n",
    "\n",
    "# Para la columna positivo alcohol, rellena los nulos con “N”\n",
    "df[\"positiva_alcohol\"] = df[\"positiva_alcohol\"].fillna(\"N\")\n",
    "\n",
    "# Para las columnas referidas a lesividad, rellenaremos los datos faltantes con “Sin atención sanitaria” (en código lesividad, pondremos valor 0)\n",
    "df[\"lesividad\"] = df[\"lesividad\"].fillna(\"Sin atención sanitaria\")\n",
    "df[\"cod_lesividad\"] = df[\"cod_lesividad\"].fillna(0)\n",
    "\n",
    "# Para el estado meteorológico emplearemos la categoría ya existente “Se desconoce”\n",
    "df[\"estado_meteorológico\"] = df[\"estado_meteorológico\"].fillna(\"Se desconoce\")\n",
    "\n",
    "# El resto de valores nulos, los eliminaremos del conjunto de datos.\n",
    "df.dropna(inplace = True)\n",
    "\n",
    "# ¿Cuántas filas y columnas tienes ahora?\n",
    "print(f\"Ahora tengo {df.shape[0]} filas y {df.shape[1]} columnas\")"
   ]
  },
  {
   "cell_type": "code",
   "execution_count": 12,
   "metadata": {},
   "outputs": [
    {
     "name": "stdout",
     "output_type": "stream",
     "text": [
      "<class 'pandas.core.frame.DataFrame'>\n",
      "Index: 265059 entries, 0 to 266617\n",
      "Data columns (total 18 columns):\n",
      " #   Column                  Non-Null Count   Dtype  \n",
      "---  ------                  --------------   -----  \n",
      " 0   num_expediente          265059 non-null  object \n",
      " 1   fecha                   265059 non-null  object \n",
      " 2   hora                    265059 non-null  object \n",
      " 3   localizacion            265059 non-null  object \n",
      " 4   numero                  265059 non-null  object \n",
      " 5   cod_distrito            265059 non-null  float64\n",
      " 6   distrito                265059 non-null  object \n",
      " 7   tipo_accidente          265059 non-null  object \n",
      " 8   estado_meteorológico    265059 non-null  object \n",
      " 9   tipo_vehiculo           265059 non-null  object \n",
      " 10  tipo_vehiculo_reducido  265059 non-null  object \n",
      " 11  tipo_persona            265059 non-null  object \n",
      " 12  rango_edad              265059 non-null  object \n",
      " 13  sexo                    265059 non-null  object \n",
      " 14  cod_lesividad           265059 non-null  float64\n",
      " 15  lesividad               265059 non-null  object \n",
      " 16  positiva_alcohol        265059 non-null  object \n",
      " 17  positiva_droga          265059 non-null  float64\n",
      "dtypes: float64(3), object(15)\n",
      "memory usage: 38.4+ MB\n"
     ]
    }
   ],
   "source": [
    "df.info()"
   ]
  },
  {
   "cell_type": "markdown",
   "metadata": {},
   "source": [
    "---\n",
    "\n",
    "## <h2><center><font color='#1E90FF'>5. Reducción de categorías en la columna tipo accidente</font></center></h2>\n",
    "\n",
    "Creé una nueva categoría llamada **\"Otro accidente\"** para agrupar las categorías con una frecuencia inferior al **10%**. Utilicé `unique` para listar todas las categorías existentes y evalué sus porcentajes antes y después de la reestructuración. Esto ayudó a simplificar el análisis sin perder información relevante.\n",
    "\n",
    "### ¿Cómo resolví el ejercicio?\n",
    "Primero calculé la frecuencia de cada categoría con `value_counts()`. Luego, transformé los porcentajes para identificar cuáles quedaban por debajo del 10%. Finalmente, reemplacé dichas categorías por “Otro accidente” y creé la columna `\"tipo_accidente_reducido\"`.\n",
    "\n",
    "### Características del código\n",
    "- **Filtros en base a porcentajes:** Convierto la frecuencia en porcentaje y comparo con el umbral deseado.  \n",
    "- **Uso de `replace()`:** Reemplazo eficiente de valores en la columna original.  \n",
    "- **Comparación antes y después:** Garantiza la verificación del impacto en la distribución de valores.\n"
   ]
  },
  {
   "cell_type": "code",
   "execution_count": 13,
   "metadata": {},
   "outputs": [
    {
     "data": {
      "text/plain": [
       "array(['Colisión lateral', 'Alcance', 'Choque contra obstáculo fijo',\n",
       "       'Colisión fronto-lateral', 'Caída', 'Colisión frontal', 'Otro',\n",
       "       'Atropello a persona', 'Colisión múltiple', 'Vuelco',\n",
       "       'Atropello a animal', 'Solo salida de la vía', 'Despeñamiento'],\n",
       "      dtype=object)"
      ]
     },
     "execution_count": 13,
     "metadata": {},
     "output_type": "execute_result"
    }
   ],
   "source": [
    "df[\"tipo_accidente\"].unique()"
   ]
  },
  {
   "cell_type": "code",
   "execution_count": 14,
   "metadata": {},
   "outputs": [
    {
     "name": "stdout",
     "output_type": "stream",
     "text": [
      "\n",
      "Porcentaje de las nuevas categorías:\n",
      "tipo_accidente\n",
      "Colisión fronto-lateral         25.349828\n",
      "Alcance                         23.619270\n",
      "Colisión lateral                14.750301\n",
      "Choque contra obstáculo fijo    12.060334\n",
      "Colisión múltiple                6.686436\n",
      "Atropello a persona              6.486480\n",
      "Caída                            5.893028\n",
      "Colisión frontal                 2.426630\n",
      "Otro                             1.739613\n",
      "Solo salida de la vía            0.421416\n",
      "Vuelco                           0.379915\n",
      "Atropello a animal               0.179960\n",
      "Despeñamiento                    0.006791\n",
      "Name: count, dtype: float64\n"
     ]
    }
   ],
   "source": [
    "frecuencia_tipos_accidente = df[\"tipo_accidente\"].value_counts()\n",
    "porcentajes_tipos_accidente = (frecuencia_tipos_accidente / len(df) * 100)\n",
    "\n",
    "print(\"\\nPorcentaje de las nuevas categorías:\")\n",
    "print(porcentajes_tipos_accidente)"
   ]
  },
  {
   "cell_type": "code",
   "execution_count": 15,
   "metadata": {},
   "outputs": [],
   "source": [
    "accidentes_reemplazables = porcentajes_tipos_accidente[porcentajes_tipos_accidente < 10].index\n",
    "\n",
    "df.insert(df.columns.get_loc(\"tipo_accidente\") + 1, \"tipo_accidente_reducido\", df[\"tipo_accidente\"].replace(accidentes_reemplazables, \"Otro accidente\"))"
   ]
  },
  {
   "cell_type": "code",
   "execution_count": 16,
   "metadata": {},
   "outputs": [
    {
     "name": "stdout",
     "output_type": "stream",
     "text": [
      "\n",
      "Porcentaje de las nuevas categorías:\n",
      "tipo_accidente_reducido\n",
      "Colisión fronto-lateral         25.349828\n",
      "Otro accidente                  24.220268\n",
      "Alcance                         23.619270\n",
      "Colisión lateral                14.750301\n",
      "Choque contra obstáculo fijo    12.060334\n",
      "Name: count, dtype: float64\n"
     ]
    }
   ],
   "source": [
    "frecuencia_tipos_accidente = df[\"tipo_accidente_reducido\"].value_counts()\n",
    "porcentajes_tipos_accidente = (frecuencia_tipos_accidente / len(df) * 100)\n",
    "\n",
    "print(\"\\nPorcentaje de las nuevas categorías:\")\n",
    "print(porcentajes_tipos_accidente)"
   ]
  },
  {
   "cell_type": "markdown",
   "metadata": {},
   "source": [
    "---\n",
    "\n",
    "## <h2><center><font color='#1E90FF'>6. Análisis de positivos en alcohol y drogas</font></center></h2>\n",
    "\n",
    "En esta sección, investigué si había accidentes en los que los implicados dieron positivo tanto en alcohol como en drogas. Utilicé `value_counts()` y algunas condiciones lógicas para identificar el número de personas implicadas y el número de expedientes únicos relacionados.\n",
    "\n",
    "### ¿Cómo resolví el ejercicio?\n",
    "1. Revisé la distribución de valores en `positiva_alcohol` y `positiva_droga`.  \n",
    "2. Apliqué un filtro conjunto para encontrar registros con `\"positiva_alcohol\" == \"S\"` y `\"positiva_droga\" == 1\"`.  \n",
    "3. Contabilicé tanto el número de filas afectadas como los expedientes únicos con `unique()`.\n",
    "\n",
    "### Características del código\n",
    "- **Uso de filtros booleanos:** Permite aislar de forma eficiente las filas correspondientes.  \n",
    "- **Identificación de expedientes únicos:** Proporciona la magnitud real del problema, evitando contar repetidamente el mismo incidente.\n"
   ]
  },
  {
   "cell_type": "code",
   "execution_count": 17,
   "metadata": {},
   "outputs": [
    {
     "name": "stdout",
     "output_type": "stream",
     "text": [
      "positiva_alcohol\n",
      "N    257327\n",
      "S      7732\n",
      "Name: count, dtype: int64\n",
      "\n",
      "positiva_droga\n",
      "0.0    264186\n",
      "1.0       873\n",
      "Name: count, dtype: int64\n"
     ]
    }
   ],
   "source": [
    "print(f\"{df['positiva_alcohol'].value_counts()}\\n\")\n",
    "\n",
    "print(df[\"positiva_droga\"].value_counts())\n"
   ]
  },
  {
   "cell_type": "code",
   "execution_count": 18,
   "metadata": {},
   "outputs": [
    {
     "name": "stdout",
     "output_type": "stream",
     "text": [
      "Hay un total de 186 personas implicadas\n",
      "Y hay un total de 182 expedientes únicos\n"
     ]
    }
   ],
   "source": [
    "ambos_positivos = df[(df[\"positiva_alcohol\"] == \"S\") & (df[\"positiva_droga\"] == 1)]\n",
    "\n",
    "print(f\"Hay un total de {ambos_positivos.shape[0]} personas implicadas\")\n",
    "print(f\"Y hay un total de {len(ambos_positivos['num_expediente'].unique())} expedientes únicos\")\n"
   ]
  },
  {
   "cell_type": "markdown",
   "metadata": {},
   "source": [
    "---\n",
    "\n",
    "## <h2><center><font color='#1E90FF'>7. Tipos de accidente más comunes según alcohol</font></center></h2>\n",
    "\n",
    "Analicé los tipos de accidentes para implicados que dieron **positivo en alcohol** y para aquellos que no. Observé diferencias en los patrones: en los positivos se destacó el **choque contra obstáculo fijo**, mientras que en los negativos predominó la **colisión por alcance**.\n",
    "\n",
    "### ¿Cómo resolví el ejercicio?\n",
    "- Separé el DataFrame en dos subconjuntos (`positivos_alcohol` y `negativos_alcohol`).  \n",
    "- Obtuve la categoría más frecuente en cada subconjunto con `value_counts().idxmax()`.  \n",
    "- Comparé los resultados para encontrar posibles explicaciones (por ejemplo, pérdida de control o condiciones de tráfico).\n",
    "\n",
    "### Características del código\n",
    "- **Segmentación de datos según condiciones:** Facilita la comparación directa entre grupos de interés.  \n",
    "- **Búsqueda del tipo de accidente más común:** Uso de `value_counts()` y `idxmax()` para identificar rápidamente la moda en cada grupo.  \n",
    "- **Análisis interpretativo:** Relacionar los hallazgos con posibles causas en la vida real.\n"
   ]
  },
  {
   "cell_type": "code",
   "execution_count": 19,
   "metadata": {},
   "outputs": [
    {
     "name": "stdout",
     "output_type": "stream",
     "text": [
      "Para quiénes habián dado positivo en alcohol:\n",
      " - Su tipo de accidente más común fue: Choque contra obstáculo fijo\n",
      " - Un total de: 3002 veces\n",
      "\n",
      "Para quiénes habián dado negativo en alcohol:\n",
      " - Su tipo de accidente más común fue: Colisión fronto-lateral\n",
      " - Un total de: 66131 veces\n"
     ]
    }
   ],
   "source": [
    "# ¿Cuál es el tipo de accidente más común para aquellos implicados que habían dado positivo en alcohol? \n",
    "positivos_alcohol = df[df[\"positiva_alcohol\"] == \"S\"]\n",
    "mas_comun_positivo = positivos_alcohol[\"tipo_accidente\"].value_counts().idxmax()\n",
    "frecuencia_positivo = positivos_alcohol[\"tipo_accidente\"].value_counts().max()\n",
    "\n",
    "# ¿Y para aquellos implicados que no dieron positivo en la prueba de alcohol? \n",
    "negativos_alcohol = df[df[\"positiva_alcohol\"] == \"N\"]\n",
    "mas_comun_negativo = negativos_alcohol[\"tipo_accidente\"].value_counts().idxmax()\n",
    "frecuencia_negativo = negativos_alcohol[\"tipo_accidente\"].value_counts().max()\n",
    "\n",
    "# ¿Qué diferencias observas?\n",
    "print(f\"Para quiénes habián dado positivo en alcohol:\")\n",
    "print(f\" - Su tipo de accidente más común fue: {mas_comun_positivo}\")\n",
    "print(f\" - Un total de: {frecuencia_positivo} veces\\n\")\n",
    "\n",
    "print(f\"Para quiénes habián dado negativo en alcohol:\")\n",
    "print(f\" - Su tipo de accidente más común fue: {mas_comun_negativo}\")\n",
    "print(f\" - Un total de: {frecuencia_negativo} veces\")\n"
   ]
  },
  {
   "cell_type": "markdown",
   "metadata": {},
   "source": [
    "## Observaciones sobre los tipos de accidentes\n",
    "\n",
    "### Positivos en alcohol:\n",
    "En los casos donde los implicados dieron **positivo en alcohol**, el tipo de accidente más común fue el **choque contra obstáculo fijo**, con un total de **3.002 casos**. Este patrón podría estar relacionado con la pérdida de control del vehículo o una disminución en la capacidad de reacción causada por el consumo de alcohol.\n",
    "\n",
    "### Negativos en alcohol:\n",
    "Para los implicados que dieron **negativo en alcohol**, el accidente más frecuente fue la **colisión fronto-lateral**, con **66.131 casos**. Este tipo de accidente es típico en condiciones de tráfico habituales, como en intersecciones o situaciones de maniobras imprevistas.\n"
   ]
  },
  {
   "cell_type": "markdown",
   "metadata": {},
   "source": [
    "---\n",
    "\n",
    "## <h2><center><font color='#1E90FF'>8. Visualización: Accidentes por estado meteorológico</font></center></h2>\n",
    "\n",
    "Graficé el número de accidentes por tipo de vehículo y estado meteorológico utilizando subgráficas comparativas. Este enfoque permitió visualizar patrones de forma clara y efectiva.\n",
    "\n",
    "### ¿Cómo resolví el ejercicio?\n",
    "- Agrupé los datos con `groupby(['tipo_vehiculo_reducido', 'estado_meteorológico'])`.  \n",
    "- Calculé el conteo de accidentes y su porcentaje sobre cada categoría de vehículo.  \n",
    "- Empleé **Plotly Express** (`px.bar`) para obtener un gráfico de barras apilado horizontal, enfatizando las diferencias en cada condición meteorológica.\n",
    "\n",
    "### Características del código\n",
    "- **Agrupación múltiple:** Sumariza los accidentes por más de un campo (vehículo y clima).  \n",
    "- **Uso de `transform()`:** Calculo porcentajes en lugar de valores absolutos, permitiendo comparaciones más intuitivas.  \n",
    "- **Gráfico interactivo:** *Plotly* facilita la exploración dinámica de la visualización.\n"
   ]
  },
  {
   "cell_type": "code",
   "execution_count": 20,
   "metadata": {},
   "outputs": [
    {
     "data": {
      "text/html": [
       "<div>\n",
       "<style scoped>\n",
       "    .dataframe tbody tr th:only-of-type {\n",
       "        vertical-align: middle;\n",
       "    }\n",
       "\n",
       "    .dataframe tbody tr th {\n",
       "        vertical-align: top;\n",
       "    }\n",
       "\n",
       "    .dataframe thead th {\n",
       "        text-align: right;\n",
       "    }\n",
       "</style>\n",
       "<table border=\"1\" class=\"dataframe\">\n",
       "  <thead>\n",
       "    <tr style=\"text-align: right;\">\n",
       "      <th></th>\n",
       "      <th>num_expediente</th>\n",
       "      <th>fecha</th>\n",
       "      <th>hora</th>\n",
       "      <th>localizacion</th>\n",
       "      <th>numero</th>\n",
       "      <th>cod_distrito</th>\n",
       "      <th>distrito</th>\n",
       "      <th>tipo_accidente</th>\n",
       "      <th>tipo_accidente_reducido</th>\n",
       "      <th>estado_meteorológico</th>\n",
       "      <th>tipo_vehiculo</th>\n",
       "      <th>tipo_vehiculo_reducido</th>\n",
       "      <th>tipo_persona</th>\n",
       "      <th>rango_edad</th>\n",
       "      <th>sexo</th>\n",
       "      <th>cod_lesividad</th>\n",
       "      <th>lesividad</th>\n",
       "      <th>positiva_alcohol</th>\n",
       "      <th>positiva_droga</th>\n",
       "    </tr>\n",
       "  </thead>\n",
       "  <tbody>\n",
       "    <tr>\n",
       "      <th>0</th>\n",
       "      <td>2018S017842</td>\n",
       "      <td>04/02/2019</td>\n",
       "      <td>9:10:00</td>\n",
       "      <td>CALL. ALBERTO AGUILERA, 1</td>\n",
       "      <td>1</td>\n",
       "      <td>1.0</td>\n",
       "      <td>CENTRO</td>\n",
       "      <td>Colisión lateral</td>\n",
       "      <td>Colisión lateral</td>\n",
       "      <td>Despejado</td>\n",
       "      <td>Motocicleta &gt; 125cc</td>\n",
       "      <td>Motocicleta</td>\n",
       "      <td>Conductor</td>\n",
       "      <td>De 45 a 49 años</td>\n",
       "      <td>Hombre</td>\n",
       "      <td>7.0</td>\n",
       "      <td>Asistencia sanitaria sólo en el lugar del acci...</td>\n",
       "      <td>N</td>\n",
       "      <td>0.0</td>\n",
       "    </tr>\n",
       "    <tr>\n",
       "      <th>1</th>\n",
       "      <td>2018S017842</td>\n",
       "      <td>04/02/2019</td>\n",
       "      <td>9:10:00</td>\n",
       "      <td>CALL. ALBERTO AGUILERA, 1</td>\n",
       "      <td>1</td>\n",
       "      <td>1.0</td>\n",
       "      <td>CENTRO</td>\n",
       "      <td>Colisión lateral</td>\n",
       "      <td>Colisión lateral</td>\n",
       "      <td>Despejado</td>\n",
       "      <td>Turismo</td>\n",
       "      <td>Turismo</td>\n",
       "      <td>Conductor</td>\n",
       "      <td>De 30 a 34 años</td>\n",
       "      <td>Mujer</td>\n",
       "      <td>7.0</td>\n",
       "      <td>Asistencia sanitaria sólo en el lugar del acci...</td>\n",
       "      <td>N</td>\n",
       "      <td>0.0</td>\n",
       "    </tr>\n",
       "    <tr>\n",
       "      <th>2</th>\n",
       "      <td>2019S000001</td>\n",
       "      <td>01/01/2019</td>\n",
       "      <td>3:45:00</td>\n",
       "      <td>PASEO. SANTA MARIA DE LA CABEZA / PLAZA. ELIPTICA</td>\n",
       "      <td>168</td>\n",
       "      <td>11.0</td>\n",
       "      <td>CARABANCHEL</td>\n",
       "      <td>Alcance</td>\n",
       "      <td>Alcance</td>\n",
       "      <td>Se desconoce</td>\n",
       "      <td>Furgoneta</td>\n",
       "      <td>Furgoneta</td>\n",
       "      <td>Conductor</td>\n",
       "      <td>De 40 a 44 años</td>\n",
       "      <td>Hombre</td>\n",
       "      <td>0.0</td>\n",
       "      <td>Sin atención sanitaria</td>\n",
       "      <td>S</td>\n",
       "      <td>0.0</td>\n",
       "    </tr>\n",
       "  </tbody>\n",
       "</table>\n",
       "</div>"
      ],
      "text/plain": [
       "  num_expediente       fecha     hora  \\\n",
       "0    2018S017842  04/02/2019  9:10:00   \n",
       "1    2018S017842  04/02/2019  9:10:00   \n",
       "2    2019S000001  01/01/2019  3:45:00   \n",
       "\n",
       "                                        localizacion numero  cod_distrito  \\\n",
       "0                          CALL. ALBERTO AGUILERA, 1      1           1.0   \n",
       "1                          CALL. ALBERTO AGUILERA, 1      1           1.0   \n",
       "2  PASEO. SANTA MARIA DE LA CABEZA / PLAZA. ELIPTICA    168          11.0   \n",
       "\n",
       "      distrito    tipo_accidente tipo_accidente_reducido estado_meteorológico  \\\n",
       "0       CENTRO  Colisión lateral        Colisión lateral            Despejado   \n",
       "1       CENTRO  Colisión lateral        Colisión lateral            Despejado   \n",
       "2  CARABANCHEL           Alcance                 Alcance         Se desconoce   \n",
       "\n",
       "         tipo_vehiculo tipo_vehiculo_reducido tipo_persona       rango_edad  \\\n",
       "0  Motocicleta > 125cc            Motocicleta    Conductor  De 45 a 49 años   \n",
       "1              Turismo                Turismo    Conductor  De 30 a 34 años   \n",
       "2            Furgoneta              Furgoneta    Conductor  De 40 a 44 años   \n",
       "\n",
       "     sexo  cod_lesividad                                          lesividad  \\\n",
       "0  Hombre            7.0  Asistencia sanitaria sólo en el lugar del acci...   \n",
       "1   Mujer            7.0  Asistencia sanitaria sólo en el lugar del acci...   \n",
       "2  Hombre            0.0                             Sin atención sanitaria   \n",
       "\n",
       "  positiva_alcohol  positiva_droga  \n",
       "0                N             0.0  \n",
       "1                N             0.0  \n",
       "2                S             0.0  "
      ]
     },
     "execution_count": 20,
     "metadata": {},
     "output_type": "execute_result"
    }
   ],
   "source": [
    "df.head(3)"
   ]
  },
  {
   "cell_type": "code",
   "execution_count": 21,
   "metadata": {},
   "outputs": [],
   "source": [
    "# Calcular el conteo total de accidentes por tipo de vehículo y estado meteorológico\n",
    "df_count = df.groupby(['tipo_vehiculo_reducido', 'estado_meteorológico']).size().reset_index(name='Conteo')\n",
    "\n",
    "# Calcular el porcentaje para cada combinación, asegurando la alineación del índice\n",
    "df_count['Porcentaje'] = df_count.groupby('tipo_vehiculo_reducido')['Conteo'].transform(lambda x: 100 * x / x.sum())\n"
   ]
  },
  {
   "cell_type": "code",
   "execution_count": 22,
   "metadata": {},
   "outputs": [
    {
     "data": {
      "application/vnd.plotly.v1+json": {
       "config": {
        "plotlyServerURL": "https://plot.ly"
       },
       "data": [
        {
         "alignmentgroup": "True",
         "hovertemplate": "estado_meteorológico=Despejado<br>Porcentaje=%{x}<br>tipo_vehiculo_reducido=%{y}<extra></extra>",
         "legendgroup": "Despejado",
         "marker": {
          "color": "rgb(243, 231, 155)",
          "pattern": {
           "shape": ""
          }
         },
         "name": "Despejado",
         "offsetgroup": "Despejado",
         "orientation": "h",
         "showlegend": true,
         "textposition": "auto",
         "type": "bar",
         "x": [
          78.92725355824987,
          84.89861259338313,
          71.88516968851697,
          74.23970341192145,
          79.6116211645325,
          82.96407829640783,
          74.10703375287561
         ],
         "xaxis": "x",
         "y": [
          "Autobús",
          "Bicicleta",
          "Camión",
          "Furgoneta",
          "Motocicleta",
          "Otro vehículo",
          "Turismo"
         ],
         "yaxis": "y"
        },
        {
         "alignmentgroup": "True",
         "hovertemplate": "estado_meteorológico=Granizando<br>Porcentaje=%{x}<br>tipo_vehiculo_reducido=%{y}<extra></extra>",
         "legendgroup": "Granizando",
         "marker": {
          "color": "rgb(250, 196, 132)",
          "pattern": {
           "shape": ""
          }
         },
         "name": "Granizando",
         "offsetgroup": "Granizando",
         "orientation": "h",
         "showlegend": true,
         "textposition": "auto",
         "type": "bar",
         "x": [
          0.02635740643120717,
          0.017787264318747775,
          0.011622501162250116,
          0.005792735909169901,
          0.030200531529354917,
          0.021510002151000216,
          0.019657742759840825
         ],
         "xaxis": "x",
         "y": [
          "Autobús",
          "Bicicleta",
          "Camión",
          "Furgoneta",
          "Motocicleta",
          "Otro vehículo",
          "Turismo"
         ],
         "yaxis": "y"
        },
        {
         "alignmentgroup": "True",
         "hovertemplate": "estado_meteorológico=LLuvia intensa<br>Porcentaje=%{x}<br>tipo_vehiculo_reducido=%{y}<extra></extra>",
         "legendgroup": "LLuvia intensa",
         "marker": {
          "color": "rgb(248, 160, 126)",
          "pattern": {
           "shape": ""
          }
         },
         "name": "LLuvia intensa",
         "offsetgroup": "LLuvia intensa",
         "orientation": "h",
         "showlegend": true,
         "textposition": "auto",
         "type": "bar",
         "x": [
          0.9356879283078545,
          0.8715759516186411,
          0.9414225941422594,
          1.1875108613798298,
          1.555327373761778,
          1.2475801247580125,
          1.3059116676672635
         ],
         "xaxis": "x",
         "y": [
          "Autobús",
          "Bicicleta",
          "Camión",
          "Furgoneta",
          "Motocicleta",
          "Otro vehículo",
          "Turismo"
         ],
         "yaxis": "y"
        },
        {
         "alignmentgroup": "True",
         "hovertemplate": "estado_meteorológico=Lluvia débil<br>Porcentaje=%{x}<br>tipo_vehiculo_reducido=%{y}<extra></extra>",
         "legendgroup": "Lluvia débil",
         "marker": {
          "color": "rgb(235, 127, 134)",
          "pattern": {
           "shape": ""
          }
         },
         "name": "Lluvia débil",
         "offsetgroup": "Lluvia débil",
         "orientation": "h",
         "showlegend": true,
         "textposition": "auto",
         "type": "bar",
         "x": [
          3.848181338956247,
          5.051583066524368,
          4.660622966062297,
          4.958581938249435,
          7.1061850688572115,
          4.194450419445042,
          5.584392814829376
         ],
         "xaxis": "x",
         "y": [
          "Autobús",
          "Bicicleta",
          "Camión",
          "Furgoneta",
          "Motocicleta",
          "Otro vehículo",
          "Turismo"
         ],
         "yaxis": "y"
        },
        {
         "alignmentgroup": "True",
         "hovertemplate": "estado_meteorológico=Nevando<br>Porcentaje=%{x}<br>tipo_vehiculo_reducido=%{y}<extra></extra>",
         "legendgroup": "Nevando",
         "marker": {
          "color": "rgb(206, 102, 147)",
          "pattern": {
           "shape": ""
          }
         },
         "name": "Nevando",
         "offsetgroup": "Nevando",
         "orientation": "h",
         "showlegend": true,
         "textposition": "auto",
         "type": "bar",
         "x": [
          0.05271481286241434,
          0.1394700139470014,
          0.028963679545849504,
          0.08456148828219377,
          0.04302000430200043,
          0.08978806828143512
         ],
         "xaxis": "x",
         "y": [
          "Autobús",
          "Camión",
          "Furgoneta",
          "Motocicleta",
          "Otro vehículo",
          "Turismo"
         ],
         "yaxis": "y"
        },
        {
         "alignmentgroup": "True",
         "hovertemplate": "estado_meteorológico=Nublado<br>Porcentaje=%{x}<br>tipo_vehiculo_reducido=%{y}<extra></extra>",
         "legendgroup": "Nublado",
         "marker": {
          "color": "rgb(160, 89, 160)",
          "pattern": {
           "shape": ""
          }
         },
         "name": "Nublado",
         "offsetgroup": "Nublado",
         "orientation": "h",
         "showlegend": true,
         "textposition": "auto",
         "type": "bar",
         "x": [
          5.58777016341592,
          5.318392031305585,
          5.648535564853557,
          6.3835949719052305,
          6.372312152693888,
          5.571090557109056,
          5.831974115534399
         ],
         "xaxis": "x",
         "y": [
          "Autobús",
          "Bicicleta",
          "Camión",
          "Furgoneta",
          "Motocicleta",
          "Otro vehículo",
          "Turismo"
         ],
         "yaxis": "y"
        },
        {
         "alignmentgroup": "True",
         "hovertemplate": "estado_meteorológico=Se desconoce<br>Porcentaje=%{x}<br>tipo_vehiculo_reducido=%{y}<extra></extra>",
         "legendgroup": "Se desconoce",
         "marker": {
          "color": "rgb(92, 83, 165)",
          "pattern": {
           "shape": ""
          }
         },
         "name": "Se desconoce",
         "offsetgroup": "Se desconoce",
         "orientation": "h",
         "showlegend": true,
         "textposition": "auto",
         "type": "bar",
         "x": [
          10.622034791776489,
          3.84204909284952,
          16.713156671315666,
          13.195852401089034,
          5.2397922203430785,
          5.958270595827059,
          13.061241838052077
         ],
         "xaxis": "x",
         "y": [
          "Autobús",
          "Bicicleta",
          "Camión",
          "Furgoneta",
          "Motocicleta",
          "Otro vehículo",
          "Turismo"
         ],
         "yaxis": "y"
        }
       ],
       "layout": {
        "barmode": "relative",
        "font": {
         "size": 14
        },
        "legend": {
         "title": {
          "text": "Estado Meteorológico"
         },
         "tracegroupgap": 0
        },
        "plot_bgcolor": "white",
        "template": {
         "data": {
          "bar": [
           {
            "error_x": {
             "color": "#2a3f5f"
            },
            "error_y": {
             "color": "#2a3f5f"
            },
            "marker": {
             "line": {
              "color": "#E5ECF6",
              "width": 0.5
             },
             "pattern": {
              "fillmode": "overlay",
              "size": 10,
              "solidity": 0.2
             }
            },
            "type": "bar"
           }
          ],
          "barpolar": [
           {
            "marker": {
             "line": {
              "color": "#E5ECF6",
              "width": 0.5
             },
             "pattern": {
              "fillmode": "overlay",
              "size": 10,
              "solidity": 0.2
             }
            },
            "type": "barpolar"
           }
          ],
          "carpet": [
           {
            "aaxis": {
             "endlinecolor": "#2a3f5f",
             "gridcolor": "white",
             "linecolor": "white",
             "minorgridcolor": "white",
             "startlinecolor": "#2a3f5f"
            },
            "baxis": {
             "endlinecolor": "#2a3f5f",
             "gridcolor": "white",
             "linecolor": "white",
             "minorgridcolor": "white",
             "startlinecolor": "#2a3f5f"
            },
            "type": "carpet"
           }
          ],
          "choropleth": [
           {
            "colorbar": {
             "outlinewidth": 0,
             "ticks": ""
            },
            "type": "choropleth"
           }
          ],
          "contour": [
           {
            "colorbar": {
             "outlinewidth": 0,
             "ticks": ""
            },
            "colorscale": [
             [
              0,
              "#0d0887"
             ],
             [
              0.1111111111111111,
              "#46039f"
             ],
             [
              0.2222222222222222,
              "#7201a8"
             ],
             [
              0.3333333333333333,
              "#9c179e"
             ],
             [
              0.4444444444444444,
              "#bd3786"
             ],
             [
              0.5555555555555556,
              "#d8576b"
             ],
             [
              0.6666666666666666,
              "#ed7953"
             ],
             [
              0.7777777777777778,
              "#fb9f3a"
             ],
             [
              0.8888888888888888,
              "#fdca26"
             ],
             [
              1,
              "#f0f921"
             ]
            ],
            "type": "contour"
           }
          ],
          "contourcarpet": [
           {
            "colorbar": {
             "outlinewidth": 0,
             "ticks": ""
            },
            "type": "contourcarpet"
           }
          ],
          "heatmap": [
           {
            "colorbar": {
             "outlinewidth": 0,
             "ticks": ""
            },
            "colorscale": [
             [
              0,
              "#0d0887"
             ],
             [
              0.1111111111111111,
              "#46039f"
             ],
             [
              0.2222222222222222,
              "#7201a8"
             ],
             [
              0.3333333333333333,
              "#9c179e"
             ],
             [
              0.4444444444444444,
              "#bd3786"
             ],
             [
              0.5555555555555556,
              "#d8576b"
             ],
             [
              0.6666666666666666,
              "#ed7953"
             ],
             [
              0.7777777777777778,
              "#fb9f3a"
             ],
             [
              0.8888888888888888,
              "#fdca26"
             ],
             [
              1,
              "#f0f921"
             ]
            ],
            "type": "heatmap"
           }
          ],
          "heatmapgl": [
           {
            "colorbar": {
             "outlinewidth": 0,
             "ticks": ""
            },
            "colorscale": [
             [
              0,
              "#0d0887"
             ],
             [
              0.1111111111111111,
              "#46039f"
             ],
             [
              0.2222222222222222,
              "#7201a8"
             ],
             [
              0.3333333333333333,
              "#9c179e"
             ],
             [
              0.4444444444444444,
              "#bd3786"
             ],
             [
              0.5555555555555556,
              "#d8576b"
             ],
             [
              0.6666666666666666,
              "#ed7953"
             ],
             [
              0.7777777777777778,
              "#fb9f3a"
             ],
             [
              0.8888888888888888,
              "#fdca26"
             ],
             [
              1,
              "#f0f921"
             ]
            ],
            "type": "heatmapgl"
           }
          ],
          "histogram": [
           {
            "marker": {
             "pattern": {
              "fillmode": "overlay",
              "size": 10,
              "solidity": 0.2
             }
            },
            "type": "histogram"
           }
          ],
          "histogram2d": [
           {
            "colorbar": {
             "outlinewidth": 0,
             "ticks": ""
            },
            "colorscale": [
             [
              0,
              "#0d0887"
             ],
             [
              0.1111111111111111,
              "#46039f"
             ],
             [
              0.2222222222222222,
              "#7201a8"
             ],
             [
              0.3333333333333333,
              "#9c179e"
             ],
             [
              0.4444444444444444,
              "#bd3786"
             ],
             [
              0.5555555555555556,
              "#d8576b"
             ],
             [
              0.6666666666666666,
              "#ed7953"
             ],
             [
              0.7777777777777778,
              "#fb9f3a"
             ],
             [
              0.8888888888888888,
              "#fdca26"
             ],
             [
              1,
              "#f0f921"
             ]
            ],
            "type": "histogram2d"
           }
          ],
          "histogram2dcontour": [
           {
            "colorbar": {
             "outlinewidth": 0,
             "ticks": ""
            },
            "colorscale": [
             [
              0,
              "#0d0887"
             ],
             [
              0.1111111111111111,
              "#46039f"
             ],
             [
              0.2222222222222222,
              "#7201a8"
             ],
             [
              0.3333333333333333,
              "#9c179e"
             ],
             [
              0.4444444444444444,
              "#bd3786"
             ],
             [
              0.5555555555555556,
              "#d8576b"
             ],
             [
              0.6666666666666666,
              "#ed7953"
             ],
             [
              0.7777777777777778,
              "#fb9f3a"
             ],
             [
              0.8888888888888888,
              "#fdca26"
             ],
             [
              1,
              "#f0f921"
             ]
            ],
            "type": "histogram2dcontour"
           }
          ],
          "mesh3d": [
           {
            "colorbar": {
             "outlinewidth": 0,
             "ticks": ""
            },
            "type": "mesh3d"
           }
          ],
          "parcoords": [
           {
            "line": {
             "colorbar": {
              "outlinewidth": 0,
              "ticks": ""
             }
            },
            "type": "parcoords"
           }
          ],
          "pie": [
           {
            "automargin": true,
            "type": "pie"
           }
          ],
          "scatter": [
           {
            "fillpattern": {
             "fillmode": "overlay",
             "size": 10,
             "solidity": 0.2
            },
            "type": "scatter"
           }
          ],
          "scatter3d": [
           {
            "line": {
             "colorbar": {
              "outlinewidth": 0,
              "ticks": ""
             }
            },
            "marker": {
             "colorbar": {
              "outlinewidth": 0,
              "ticks": ""
             }
            },
            "type": "scatter3d"
           }
          ],
          "scattercarpet": [
           {
            "marker": {
             "colorbar": {
              "outlinewidth": 0,
              "ticks": ""
             }
            },
            "type": "scattercarpet"
           }
          ],
          "scattergeo": [
           {
            "marker": {
             "colorbar": {
              "outlinewidth": 0,
              "ticks": ""
             }
            },
            "type": "scattergeo"
           }
          ],
          "scattergl": [
           {
            "marker": {
             "colorbar": {
              "outlinewidth": 0,
              "ticks": ""
             }
            },
            "type": "scattergl"
           }
          ],
          "scattermapbox": [
           {
            "marker": {
             "colorbar": {
              "outlinewidth": 0,
              "ticks": ""
             }
            },
            "type": "scattermapbox"
           }
          ],
          "scatterpolar": [
           {
            "marker": {
             "colorbar": {
              "outlinewidth": 0,
              "ticks": ""
             }
            },
            "type": "scatterpolar"
           }
          ],
          "scatterpolargl": [
           {
            "marker": {
             "colorbar": {
              "outlinewidth": 0,
              "ticks": ""
             }
            },
            "type": "scatterpolargl"
           }
          ],
          "scatterternary": [
           {
            "marker": {
             "colorbar": {
              "outlinewidth": 0,
              "ticks": ""
             }
            },
            "type": "scatterternary"
           }
          ],
          "surface": [
           {
            "colorbar": {
             "outlinewidth": 0,
             "ticks": ""
            },
            "colorscale": [
             [
              0,
              "#0d0887"
             ],
             [
              0.1111111111111111,
              "#46039f"
             ],
             [
              0.2222222222222222,
              "#7201a8"
             ],
             [
              0.3333333333333333,
              "#9c179e"
             ],
             [
              0.4444444444444444,
              "#bd3786"
             ],
             [
              0.5555555555555556,
              "#d8576b"
             ],
             [
              0.6666666666666666,
              "#ed7953"
             ],
             [
              0.7777777777777778,
              "#fb9f3a"
             ],
             [
              0.8888888888888888,
              "#fdca26"
             ],
             [
              1,
              "#f0f921"
             ]
            ],
            "type": "surface"
           }
          ],
          "table": [
           {
            "cells": {
             "fill": {
              "color": "#EBF0F8"
             },
             "line": {
              "color": "white"
             }
            },
            "header": {
             "fill": {
              "color": "#C8D4E3"
             },
             "line": {
              "color": "white"
             }
            },
            "type": "table"
           }
          ]
         },
         "layout": {
          "annotationdefaults": {
           "arrowcolor": "#2a3f5f",
           "arrowhead": 0,
           "arrowwidth": 1
          },
          "autotypenumbers": "strict",
          "coloraxis": {
           "colorbar": {
            "outlinewidth": 0,
            "ticks": ""
           }
          },
          "colorscale": {
           "diverging": [
            [
             0,
             "#8e0152"
            ],
            [
             0.1,
             "#c51b7d"
            ],
            [
             0.2,
             "#de77ae"
            ],
            [
             0.3,
             "#f1b6da"
            ],
            [
             0.4,
             "#fde0ef"
            ],
            [
             0.5,
             "#f7f7f7"
            ],
            [
             0.6,
             "#e6f5d0"
            ],
            [
             0.7,
             "#b8e186"
            ],
            [
             0.8,
             "#7fbc41"
            ],
            [
             0.9,
             "#4d9221"
            ],
            [
             1,
             "#276419"
            ]
           ],
           "sequential": [
            [
             0,
             "#0d0887"
            ],
            [
             0.1111111111111111,
             "#46039f"
            ],
            [
             0.2222222222222222,
             "#7201a8"
            ],
            [
             0.3333333333333333,
             "#9c179e"
            ],
            [
             0.4444444444444444,
             "#bd3786"
            ],
            [
             0.5555555555555556,
             "#d8576b"
            ],
            [
             0.6666666666666666,
             "#ed7953"
            ],
            [
             0.7777777777777778,
             "#fb9f3a"
            ],
            [
             0.8888888888888888,
             "#fdca26"
            ],
            [
             1,
             "#f0f921"
            ]
           ],
           "sequentialminus": [
            [
             0,
             "#0d0887"
            ],
            [
             0.1111111111111111,
             "#46039f"
            ],
            [
             0.2222222222222222,
             "#7201a8"
            ],
            [
             0.3333333333333333,
             "#9c179e"
            ],
            [
             0.4444444444444444,
             "#bd3786"
            ],
            [
             0.5555555555555556,
             "#d8576b"
            ],
            [
             0.6666666666666666,
             "#ed7953"
            ],
            [
             0.7777777777777778,
             "#fb9f3a"
            ],
            [
             0.8888888888888888,
             "#fdca26"
            ],
            [
             1,
             "#f0f921"
            ]
           ]
          },
          "colorway": [
           "#636efa",
           "#EF553B",
           "#00cc96",
           "#ab63fa",
           "#FFA15A",
           "#19d3f3",
           "#FF6692",
           "#B6E880",
           "#FF97FF",
           "#FECB52"
          ],
          "font": {
           "color": "#2a3f5f"
          },
          "geo": {
           "bgcolor": "white",
           "lakecolor": "white",
           "landcolor": "#E5ECF6",
           "showlakes": true,
           "showland": true,
           "subunitcolor": "white"
          },
          "hoverlabel": {
           "align": "left"
          },
          "hovermode": "closest",
          "mapbox": {
           "style": "light"
          },
          "paper_bgcolor": "white",
          "plot_bgcolor": "#E5ECF6",
          "polar": {
           "angularaxis": {
            "gridcolor": "white",
            "linecolor": "white",
            "ticks": ""
           },
           "bgcolor": "#E5ECF6",
           "radialaxis": {
            "gridcolor": "white",
            "linecolor": "white",
            "ticks": ""
           }
          },
          "scene": {
           "xaxis": {
            "backgroundcolor": "#E5ECF6",
            "gridcolor": "white",
            "gridwidth": 2,
            "linecolor": "white",
            "showbackground": true,
            "ticks": "",
            "zerolinecolor": "white"
           },
           "yaxis": {
            "backgroundcolor": "#E5ECF6",
            "gridcolor": "white",
            "gridwidth": 2,
            "linecolor": "white",
            "showbackground": true,
            "ticks": "",
            "zerolinecolor": "white"
           },
           "zaxis": {
            "backgroundcolor": "#E5ECF6",
            "gridcolor": "white",
            "gridwidth": 2,
            "linecolor": "white",
            "showbackground": true,
            "ticks": "",
            "zerolinecolor": "white"
           }
          },
          "shapedefaults": {
           "line": {
            "color": "#2a3f5f"
           }
          },
          "ternary": {
           "aaxis": {
            "gridcolor": "white",
            "linecolor": "white",
            "ticks": ""
           },
           "baxis": {
            "gridcolor": "white",
            "linecolor": "white",
            "ticks": ""
           },
           "bgcolor": "#E5ECF6",
           "caxis": {
            "gridcolor": "white",
            "linecolor": "white",
            "ticks": ""
           }
          },
          "title": {
           "x": 0.05
          },
          "xaxis": {
           "automargin": true,
           "gridcolor": "white",
           "linecolor": "white",
           "ticks": "",
           "title": {
            "standoff": 15
           },
           "zerolinecolor": "white",
           "zerolinewidth": 2
          },
          "yaxis": {
           "automargin": true,
           "gridcolor": "white",
           "linecolor": "white",
           "ticks": "",
           "title": {
            "standoff": 15
           },
           "zerolinecolor": "white",
           "zerolinewidth": 2
          }
         }
        },
        "title": {
         "text": "Accidentes por Tipo de Vehículo y Estado Meteorológico"
        },
        "xaxis": {
         "anchor": "y",
         "domain": [
          0,
          1
         ],
         "title": {
          "text": "Porcentaje de Accidentes (%)"
         }
        },
        "yaxis": {
         "anchor": "x",
         "domain": [
          0,
          1
         ],
         "title": {
          "text": "Tipo de Vehículo"
         }
        }
       }
      }
     },
     "metadata": {},
     "output_type": "display_data"
    }
   ],
   "source": [
    "import plotly.express as px\n",
    "\n",
    "df_count = df_count.reset_index()\n",
    "\n",
    "fig = px.bar(\n",
    "    df_count, \n",
    "    x='Porcentaje', \n",
    "    y='tipo_vehiculo_reducido', \n",
    "    color='estado_meteorológico', \n",
    "    orientation='h', \n",
    "    title='Accidentes por Tipo de Vehículo y Estado Meteorológico',\n",
    "    color_discrete_sequence=px.colors.sequential.Sunset\n",
    ")\n",
    "\n",
    "fig.update_layout(\n",
    "    xaxis_title='Porcentaje de Accidentes (%)',\n",
    "    yaxis_title='Tipo de Vehículo',\n",
    "    font=dict(size=14),\n",
    "    plot_bgcolor='white',\n",
    "    legend_title='Estado Meteorológico'\n",
    ")\n",
    "\n",
    "fig.show()\n"
   ]
  },
  {
   "cell_type": "markdown",
   "metadata": {},
   "source": [
    "---\n",
    "\n",
    "## <h2><center><font color='#1E90FF'>9. Análisis de accidentes múltiples</font></center></h2>\n",
    "\n",
    "Al agrupar por `\"num_expediente\"` para identificar accidentes con cinco o más tipos de vehículos, el resultado siempre era cero. Tras revisar el código, descubrí que solo existían seis categorías de vehículos a gran escala, lo que no garantizaba múltiples tipos de vehículos en un mismo accidente.\n",
    "\n",
    "### ¿Cómo resolví el ejercicio?\n",
    "- Ordené agrupar por `num_expediente` y comprobé la diversidad en `tipo_vehiculo_reducido`.  \n",
    "- Apliqué un filtro para retener solo aquellos expedientes con 5 o más tipos de vehículos (`.nunique() >= 5`).  \n",
    "- Confirmé que no había expedientes que cumplieran el criterio.\n",
    "\n",
    "### Características del código\n",
    "- **Uso de `groupby` y `filter()`:** Permite aislar subconjuntos según la cantidad de valores únicos de una columna.  \n",
    "- **Análisis de la diversidad dentro de un accidente:** Indica la complejidad o heterogeneidad de los vehículos involucrados.  \n",
    "- **Lección aprendida:** La reducción de categorías puede simplificar en exceso el análisis si se sustituye la columna original.\n"
   ]
  },
  {
   "cell_type": "code",
   "execution_count": 23,
   "metadata": {},
   "outputs": [
    {
     "data": {
      "text/html": [
       "<div>\n",
       "<style scoped>\n",
       "    .dataframe tbody tr th:only-of-type {\n",
       "        vertical-align: middle;\n",
       "    }\n",
       "\n",
       "    .dataframe tbody tr th {\n",
       "        vertical-align: top;\n",
       "    }\n",
       "\n",
       "    .dataframe thead th {\n",
       "        text-align: right;\n",
       "    }\n",
       "</style>\n",
       "<table border=\"1\" class=\"dataframe\">\n",
       "  <thead>\n",
       "    <tr style=\"text-align: right;\">\n",
       "      <th></th>\n",
       "      <th>num_expediente</th>\n",
       "      <th>fecha</th>\n",
       "      <th>hora</th>\n",
       "      <th>localizacion</th>\n",
       "      <th>numero</th>\n",
       "      <th>cod_distrito</th>\n",
       "      <th>distrito</th>\n",
       "      <th>tipo_accidente</th>\n",
       "      <th>tipo_accidente_reducido</th>\n",
       "      <th>estado_meteorológico</th>\n",
       "      <th>tipo_vehiculo</th>\n",
       "      <th>tipo_vehiculo_reducido</th>\n",
       "      <th>tipo_persona</th>\n",
       "      <th>rango_edad</th>\n",
       "      <th>sexo</th>\n",
       "      <th>cod_lesividad</th>\n",
       "      <th>lesividad</th>\n",
       "      <th>positiva_alcohol</th>\n",
       "      <th>positiva_droga</th>\n",
       "    </tr>\n",
       "  </thead>\n",
       "  <tbody>\n",
       "    <tr>\n",
       "      <th>0</th>\n",
       "      <td>2018S017842</td>\n",
       "      <td>04/02/2019</td>\n",
       "      <td>9:10:00</td>\n",
       "      <td>CALL. ALBERTO AGUILERA, 1</td>\n",
       "      <td>1</td>\n",
       "      <td>1.0</td>\n",
       "      <td>CENTRO</td>\n",
       "      <td>Colisión lateral</td>\n",
       "      <td>Colisión lateral</td>\n",
       "      <td>Despejado</td>\n",
       "      <td>Motocicleta &gt; 125cc</td>\n",
       "      <td>Motocicleta</td>\n",
       "      <td>Conductor</td>\n",
       "      <td>De 45 a 49 años</td>\n",
       "      <td>Hombre</td>\n",
       "      <td>7.0</td>\n",
       "      <td>Asistencia sanitaria sólo en el lugar del acci...</td>\n",
       "      <td>N</td>\n",
       "      <td>0.0</td>\n",
       "    </tr>\n",
       "    <tr>\n",
       "      <th>1</th>\n",
       "      <td>2018S017842</td>\n",
       "      <td>04/02/2019</td>\n",
       "      <td>9:10:00</td>\n",
       "      <td>CALL. ALBERTO AGUILERA, 1</td>\n",
       "      <td>1</td>\n",
       "      <td>1.0</td>\n",
       "      <td>CENTRO</td>\n",
       "      <td>Colisión lateral</td>\n",
       "      <td>Colisión lateral</td>\n",
       "      <td>Despejado</td>\n",
       "      <td>Turismo</td>\n",
       "      <td>Turismo</td>\n",
       "      <td>Conductor</td>\n",
       "      <td>De 30 a 34 años</td>\n",
       "      <td>Mujer</td>\n",
       "      <td>7.0</td>\n",
       "      <td>Asistencia sanitaria sólo en el lugar del acci...</td>\n",
       "      <td>N</td>\n",
       "      <td>0.0</td>\n",
       "    </tr>\n",
       "  </tbody>\n",
       "</table>\n",
       "</div>"
      ],
      "text/plain": [
       "  num_expediente       fecha     hora               localizacion numero  \\\n",
       "0    2018S017842  04/02/2019  9:10:00  CALL. ALBERTO AGUILERA, 1      1   \n",
       "1    2018S017842  04/02/2019  9:10:00  CALL. ALBERTO AGUILERA, 1      1   \n",
       "\n",
       "   cod_distrito distrito    tipo_accidente tipo_accidente_reducido  \\\n",
       "0           1.0   CENTRO  Colisión lateral        Colisión lateral   \n",
       "1           1.0   CENTRO  Colisión lateral        Colisión lateral   \n",
       "\n",
       "  estado_meteorológico        tipo_vehiculo tipo_vehiculo_reducido  \\\n",
       "0            Despejado  Motocicleta > 125cc            Motocicleta   \n",
       "1            Despejado              Turismo                Turismo   \n",
       "\n",
       "  tipo_persona       rango_edad    sexo  cod_lesividad  \\\n",
       "0    Conductor  De 45 a 49 años  Hombre            7.0   \n",
       "1    Conductor  De 30 a 34 años   Mujer            7.0   \n",
       "\n",
       "                                           lesividad positiva_alcohol  \\\n",
       "0  Asistencia sanitaria sólo en el lugar del acci...                N   \n",
       "1  Asistencia sanitaria sólo en el lugar del acci...                N   \n",
       "\n",
       "   positiva_droga  \n",
       "0             0.0  \n",
       "1             0.0  "
      ]
     },
     "execution_count": 23,
     "metadata": {},
     "output_type": "execute_result"
    }
   ],
   "source": [
    "df.head(2)"
   ]
  },
  {
   "cell_type": "code",
   "execution_count": 24,
   "metadata": {},
   "outputs": [
    {
     "name": "stdout",
     "output_type": "stream",
     "text": [
      "Cantidad de números de expediente con 5 o más tipos de vehículos: 1\n",
      "\n",
      "Cantidad de implicados en cada expediente:\n",
      "num_expediente\n",
      "2022S022123    10\n",
      "dtype: int64\n",
      "\n",
      "Tipos de vehículos diferentes en cada expediente:\n",
      "num_expediente\n",
      "2022S022123    [Camión, Furgoneta, Motocicleta, Otro vehículo...\n",
      "Name: tipo_vehiculo_reducido, dtype: object\n"
     ]
    }
   ],
   "source": [
    "agrupado = df.groupby('num_expediente').filter(lambda x: x['tipo_vehiculo_reducido'].nunique() >= 5)\n",
    "\n",
    "num_expedientes = agrupado['num_expediente'].nunique()\n",
    "print(f\"Cantidad de números de expediente con 5 o más tipos de vehículos: {num_expedientes}\")\n",
    "\n",
    "implicados_por_expediente = agrupado.groupby('num_expediente').size()\n",
    "print(\"\\nCantidad de implicados en cada expediente:\")\n",
    "print(implicados_por_expediente)\n",
    "\n",
    "\n",
    "tipos_vehiculos_por_expediente = agrupado.groupby('num_expediente')['tipo_vehiculo_reducido'].unique()\n",
    "print(\"\\nTipos de vehículos diferentes en cada expediente:\")\n",
    "print(tipos_vehiculos_por_expediente)\n"
   ]
  },
  {
   "cell_type": "markdown",
   "metadata": {},
   "source": [
    "---\n",
    "## <h2><center><font color='#1E90FF'>10. Horas más peligrosas para circular en Madrid</font></center></h2>\n",
    "\n",
    "Finalmente, analicé las horas con mayor incidencia de accidentes. Utilicé gráficos de barras y mapas de calor, con colores inspirados en un semáforo para representar la gravedad. Como me quedé con las ganas de implementar un calendario más detallado, hice una búsqueda en internet y encontré la interesante librería `calplot` aquí: https://python-charts.com/es/evolucion/calendario-matplotlib/#google_vignette\n",
    "\n",
    "### ¿Cómo resolví el ejercicio?\n",
    "1. Extraje la hora del día a partir de la columna `\"hora\"` con `pd.to_datetime().dt.hour`.  \n",
    "2. Contabilicé la frecuencia de accidentes por cada hora y ordené los resultados.  \n",
    "3. Generé un *heatmap* con **Seaborn** para visualizar la relación entre días de la semana y horas del día.  \n",
    "4. Usé la librería `calplot` para representar el recuento diario en un calendario, ofreciendo un panorama a largo plazo.\n",
    "\n",
    "### Características del código\n",
    "- **Transformación temporal con `dt.hour`:** Permite categorizar los accidentes según la franja horaria.  \n",
    "- **Gráficos de barras con *Plotly*:** Facilidad de representación y personalización cromática.  \n",
    "- **Mapa de calor (*heatmap*):** Resalta picos de siniestralidad en determinadas combinaciones día-hora.  \n",
    "- **Calplot:** Crea un calendario para observar tendencias generales a lo largo de los días donde es reseñable la tendencia todos los años en agosto y durante los meses de confinamiento."
   ]
  },
  {
   "cell_type": "code",
   "execution_count": 25,
   "metadata": {},
   "outputs": [
    {
     "data": {
      "text/plain": [
       "0     9:10:00\n",
       "1     9:10:00\n",
       "2     3:45:00\n",
       "3     3:45:00\n",
       "4     3:45:00\n",
       "5     3:45:00\n",
       "6     3:45:00\n",
       "7     3:45:00\n",
       "8     3:50:00\n",
       "9     3:50:00\n",
       "10    3:50:00\n",
       "11    3:50:00\n",
       "12    4:00:00\n",
       "13    4:00:00\n",
       "14    4:00:00\n",
       "Name: hora, dtype: object"
      ]
     },
     "execution_count": 25,
     "metadata": {},
     "output_type": "execute_result"
    }
   ],
   "source": [
    "df[\"hora\"].head(15)"
   ]
  },
  {
   "cell_type": "code",
   "execution_count": 26,
   "metadata": {},
   "outputs": [],
   "source": [
    "df.insert(df.columns.get_loc(\"hora\") + 1, \"hora_reducida\", pd.to_datetime(df[\"hora\"], format=\"%H:%M:%S\").dt.hour)"
   ]
  },
  {
   "cell_type": "code",
   "execution_count": 31,
   "metadata": {},
   "outputs": [
    {
     "data": {
      "application/vnd.plotly.v1+json": {
       "config": {
        "plotlyServerURL": "https://plot.ly"
       },
       "data": [
        {
         "alignmentgroup": "True",
         "hovertemplate": "hora=%{x}<br>n_accidentes=%{marker.color}<extra></extra>",
         "legendgroup": "",
         "marker": {
          "color": [
           6510,
           4958,
           3792,
           2974,
           2475,
           2956,
           4453,
           6981,
           11257,
           13027,
           10788,
           11391,
           13456,
           14944,
           18075,
           16744,
           15582,
           17068,
           18523,
           18677,
           17155,
           14321,
           10346,
           8606
          ],
          "coloraxis": "coloraxis",
          "pattern": {
           "shape": ""
          }
         },
         "name": "",
         "offsetgroup": "",
         "orientation": "v",
         "showlegend": false,
         "textposition": "auto",
         "type": "bar",
         "x": [
          0,
          1,
          2,
          3,
          4,
          5,
          6,
          7,
          8,
          9,
          10,
          11,
          12,
          13,
          14,
          15,
          16,
          17,
          18,
          19,
          20,
          21,
          22,
          23
         ],
         "xaxis": "x",
         "y": [
          6510,
          4958,
          3792,
          2974,
          2475,
          2956,
          4453,
          6981,
          11257,
          13027,
          10788,
          11391,
          13456,
          14944,
          18075,
          16744,
          15582,
          17068,
          18523,
          18677,
          17155,
          14321,
          10346,
          8606
         ],
         "yaxis": "y"
        }
       ],
       "layout": {
        "barmode": "relative",
        "coloraxis": {
         "colorbar": {
          "title": {
           "text": "Accidentes"
          }
         },
         "colorscale": [
          [
           0,
           "rgb(0,104,55)"
          ],
          [
           0.1,
           "rgb(26,152,80)"
          ],
          [
           0.2,
           "rgb(102,189,99)"
          ],
          [
           0.3,
           "rgb(166,217,106)"
          ],
          [
           0.4,
           "rgb(217,239,139)"
          ],
          [
           0.5,
           "rgb(255,255,191)"
          ],
          [
           0.6,
           "rgb(254,224,139)"
          ],
          [
           0.7,
           "rgb(253,174,97)"
          ],
          [
           0.8,
           "rgb(244,109,67)"
          ],
          [
           0.9,
           "rgb(215,48,39)"
          ],
          [
           1,
           "rgb(165,0,38)"
          ]
         ]
        },
        "font": {
         "size": 14
        },
        "legend": {
         "tracegroupgap": 0
        },
        "plot_bgcolor": "white",
        "template": {
         "data": {
          "bar": [
           {
            "error_x": {
             "color": "#2a3f5f"
            },
            "error_y": {
             "color": "#2a3f5f"
            },
            "marker": {
             "line": {
              "color": "#E5ECF6",
              "width": 0.5
             },
             "pattern": {
              "fillmode": "overlay",
              "size": 10,
              "solidity": 0.2
             }
            },
            "type": "bar"
           }
          ],
          "barpolar": [
           {
            "marker": {
             "line": {
              "color": "#E5ECF6",
              "width": 0.5
             },
             "pattern": {
              "fillmode": "overlay",
              "size": 10,
              "solidity": 0.2
             }
            },
            "type": "barpolar"
           }
          ],
          "carpet": [
           {
            "aaxis": {
             "endlinecolor": "#2a3f5f",
             "gridcolor": "white",
             "linecolor": "white",
             "minorgridcolor": "white",
             "startlinecolor": "#2a3f5f"
            },
            "baxis": {
             "endlinecolor": "#2a3f5f",
             "gridcolor": "white",
             "linecolor": "white",
             "minorgridcolor": "white",
             "startlinecolor": "#2a3f5f"
            },
            "type": "carpet"
           }
          ],
          "choropleth": [
           {
            "colorbar": {
             "outlinewidth": 0,
             "ticks": ""
            },
            "type": "choropleth"
           }
          ],
          "contour": [
           {
            "colorbar": {
             "outlinewidth": 0,
             "ticks": ""
            },
            "colorscale": [
             [
              0,
              "#0d0887"
             ],
             [
              0.1111111111111111,
              "#46039f"
             ],
             [
              0.2222222222222222,
              "#7201a8"
             ],
             [
              0.3333333333333333,
              "#9c179e"
             ],
             [
              0.4444444444444444,
              "#bd3786"
             ],
             [
              0.5555555555555556,
              "#d8576b"
             ],
             [
              0.6666666666666666,
              "#ed7953"
             ],
             [
              0.7777777777777778,
              "#fb9f3a"
             ],
             [
              0.8888888888888888,
              "#fdca26"
             ],
             [
              1,
              "#f0f921"
             ]
            ],
            "type": "contour"
           }
          ],
          "contourcarpet": [
           {
            "colorbar": {
             "outlinewidth": 0,
             "ticks": ""
            },
            "type": "contourcarpet"
           }
          ],
          "heatmap": [
           {
            "colorbar": {
             "outlinewidth": 0,
             "ticks": ""
            },
            "colorscale": [
             [
              0,
              "#0d0887"
             ],
             [
              0.1111111111111111,
              "#46039f"
             ],
             [
              0.2222222222222222,
              "#7201a8"
             ],
             [
              0.3333333333333333,
              "#9c179e"
             ],
             [
              0.4444444444444444,
              "#bd3786"
             ],
             [
              0.5555555555555556,
              "#d8576b"
             ],
             [
              0.6666666666666666,
              "#ed7953"
             ],
             [
              0.7777777777777778,
              "#fb9f3a"
             ],
             [
              0.8888888888888888,
              "#fdca26"
             ],
             [
              1,
              "#f0f921"
             ]
            ],
            "type": "heatmap"
           }
          ],
          "heatmapgl": [
           {
            "colorbar": {
             "outlinewidth": 0,
             "ticks": ""
            },
            "colorscale": [
             [
              0,
              "#0d0887"
             ],
             [
              0.1111111111111111,
              "#46039f"
             ],
             [
              0.2222222222222222,
              "#7201a8"
             ],
             [
              0.3333333333333333,
              "#9c179e"
             ],
             [
              0.4444444444444444,
              "#bd3786"
             ],
             [
              0.5555555555555556,
              "#d8576b"
             ],
             [
              0.6666666666666666,
              "#ed7953"
             ],
             [
              0.7777777777777778,
              "#fb9f3a"
             ],
             [
              0.8888888888888888,
              "#fdca26"
             ],
             [
              1,
              "#f0f921"
             ]
            ],
            "type": "heatmapgl"
           }
          ],
          "histogram": [
           {
            "marker": {
             "pattern": {
              "fillmode": "overlay",
              "size": 10,
              "solidity": 0.2
             }
            },
            "type": "histogram"
           }
          ],
          "histogram2d": [
           {
            "colorbar": {
             "outlinewidth": 0,
             "ticks": ""
            },
            "colorscale": [
             [
              0,
              "#0d0887"
             ],
             [
              0.1111111111111111,
              "#46039f"
             ],
             [
              0.2222222222222222,
              "#7201a8"
             ],
             [
              0.3333333333333333,
              "#9c179e"
             ],
             [
              0.4444444444444444,
              "#bd3786"
             ],
             [
              0.5555555555555556,
              "#d8576b"
             ],
             [
              0.6666666666666666,
              "#ed7953"
             ],
             [
              0.7777777777777778,
              "#fb9f3a"
             ],
             [
              0.8888888888888888,
              "#fdca26"
             ],
             [
              1,
              "#f0f921"
             ]
            ],
            "type": "histogram2d"
           }
          ],
          "histogram2dcontour": [
           {
            "colorbar": {
             "outlinewidth": 0,
             "ticks": ""
            },
            "colorscale": [
             [
              0,
              "#0d0887"
             ],
             [
              0.1111111111111111,
              "#46039f"
             ],
             [
              0.2222222222222222,
              "#7201a8"
             ],
             [
              0.3333333333333333,
              "#9c179e"
             ],
             [
              0.4444444444444444,
              "#bd3786"
             ],
             [
              0.5555555555555556,
              "#d8576b"
             ],
             [
              0.6666666666666666,
              "#ed7953"
             ],
             [
              0.7777777777777778,
              "#fb9f3a"
             ],
             [
              0.8888888888888888,
              "#fdca26"
             ],
             [
              1,
              "#f0f921"
             ]
            ],
            "type": "histogram2dcontour"
           }
          ],
          "mesh3d": [
           {
            "colorbar": {
             "outlinewidth": 0,
             "ticks": ""
            },
            "type": "mesh3d"
           }
          ],
          "parcoords": [
           {
            "line": {
             "colorbar": {
              "outlinewidth": 0,
              "ticks": ""
             }
            },
            "type": "parcoords"
           }
          ],
          "pie": [
           {
            "automargin": true,
            "type": "pie"
           }
          ],
          "scatter": [
           {
            "fillpattern": {
             "fillmode": "overlay",
             "size": 10,
             "solidity": 0.2
            },
            "type": "scatter"
           }
          ],
          "scatter3d": [
           {
            "line": {
             "colorbar": {
              "outlinewidth": 0,
              "ticks": ""
             }
            },
            "marker": {
             "colorbar": {
              "outlinewidth": 0,
              "ticks": ""
             }
            },
            "type": "scatter3d"
           }
          ],
          "scattercarpet": [
           {
            "marker": {
             "colorbar": {
              "outlinewidth": 0,
              "ticks": ""
             }
            },
            "type": "scattercarpet"
           }
          ],
          "scattergeo": [
           {
            "marker": {
             "colorbar": {
              "outlinewidth": 0,
              "ticks": ""
             }
            },
            "type": "scattergeo"
           }
          ],
          "scattergl": [
           {
            "marker": {
             "colorbar": {
              "outlinewidth": 0,
              "ticks": ""
             }
            },
            "type": "scattergl"
           }
          ],
          "scattermapbox": [
           {
            "marker": {
             "colorbar": {
              "outlinewidth": 0,
              "ticks": ""
             }
            },
            "type": "scattermapbox"
           }
          ],
          "scatterpolar": [
           {
            "marker": {
             "colorbar": {
              "outlinewidth": 0,
              "ticks": ""
             }
            },
            "type": "scatterpolar"
           }
          ],
          "scatterpolargl": [
           {
            "marker": {
             "colorbar": {
              "outlinewidth": 0,
              "ticks": ""
             }
            },
            "type": "scatterpolargl"
           }
          ],
          "scatterternary": [
           {
            "marker": {
             "colorbar": {
              "outlinewidth": 0,
              "ticks": ""
             }
            },
            "type": "scatterternary"
           }
          ],
          "surface": [
           {
            "colorbar": {
             "outlinewidth": 0,
             "ticks": ""
            },
            "colorscale": [
             [
              0,
              "#0d0887"
             ],
             [
              0.1111111111111111,
              "#46039f"
             ],
             [
              0.2222222222222222,
              "#7201a8"
             ],
             [
              0.3333333333333333,
              "#9c179e"
             ],
             [
              0.4444444444444444,
              "#bd3786"
             ],
             [
              0.5555555555555556,
              "#d8576b"
             ],
             [
              0.6666666666666666,
              "#ed7953"
             ],
             [
              0.7777777777777778,
              "#fb9f3a"
             ],
             [
              0.8888888888888888,
              "#fdca26"
             ],
             [
              1,
              "#f0f921"
             ]
            ],
            "type": "surface"
           }
          ],
          "table": [
           {
            "cells": {
             "fill": {
              "color": "#EBF0F8"
             },
             "line": {
              "color": "white"
             }
            },
            "header": {
             "fill": {
              "color": "#C8D4E3"
             },
             "line": {
              "color": "white"
             }
            },
            "type": "table"
           }
          ]
         },
         "layout": {
          "annotationdefaults": {
           "arrowcolor": "#2a3f5f",
           "arrowhead": 0,
           "arrowwidth": 1
          },
          "autotypenumbers": "strict",
          "coloraxis": {
           "colorbar": {
            "outlinewidth": 0,
            "ticks": ""
           }
          },
          "colorscale": {
           "diverging": [
            [
             0,
             "#8e0152"
            ],
            [
             0.1,
             "#c51b7d"
            ],
            [
             0.2,
             "#de77ae"
            ],
            [
             0.3,
             "#f1b6da"
            ],
            [
             0.4,
             "#fde0ef"
            ],
            [
             0.5,
             "#f7f7f7"
            ],
            [
             0.6,
             "#e6f5d0"
            ],
            [
             0.7,
             "#b8e186"
            ],
            [
             0.8,
             "#7fbc41"
            ],
            [
             0.9,
             "#4d9221"
            ],
            [
             1,
             "#276419"
            ]
           ],
           "sequential": [
            [
             0,
             "#0d0887"
            ],
            [
             0.1111111111111111,
             "#46039f"
            ],
            [
             0.2222222222222222,
             "#7201a8"
            ],
            [
             0.3333333333333333,
             "#9c179e"
            ],
            [
             0.4444444444444444,
             "#bd3786"
            ],
            [
             0.5555555555555556,
             "#d8576b"
            ],
            [
             0.6666666666666666,
             "#ed7953"
            ],
            [
             0.7777777777777778,
             "#fb9f3a"
            ],
            [
             0.8888888888888888,
             "#fdca26"
            ],
            [
             1,
             "#f0f921"
            ]
           ],
           "sequentialminus": [
            [
             0,
             "#0d0887"
            ],
            [
             0.1111111111111111,
             "#46039f"
            ],
            [
             0.2222222222222222,
             "#7201a8"
            ],
            [
             0.3333333333333333,
             "#9c179e"
            ],
            [
             0.4444444444444444,
             "#bd3786"
            ],
            [
             0.5555555555555556,
             "#d8576b"
            ],
            [
             0.6666666666666666,
             "#ed7953"
            ],
            [
             0.7777777777777778,
             "#fb9f3a"
            ],
            [
             0.8888888888888888,
             "#fdca26"
            ],
            [
             1,
             "#f0f921"
            ]
           ]
          },
          "colorway": [
           "#636efa",
           "#EF553B",
           "#00cc96",
           "#ab63fa",
           "#FFA15A",
           "#19d3f3",
           "#FF6692",
           "#B6E880",
           "#FF97FF",
           "#FECB52"
          ],
          "font": {
           "color": "#2a3f5f"
          },
          "geo": {
           "bgcolor": "white",
           "lakecolor": "white",
           "landcolor": "#E5ECF6",
           "showlakes": true,
           "showland": true,
           "subunitcolor": "white"
          },
          "hoverlabel": {
           "align": "left"
          },
          "hovermode": "closest",
          "mapbox": {
           "style": "light"
          },
          "paper_bgcolor": "white",
          "plot_bgcolor": "#E5ECF6",
          "polar": {
           "angularaxis": {
            "gridcolor": "white",
            "linecolor": "white",
            "ticks": ""
           },
           "bgcolor": "#E5ECF6",
           "radialaxis": {
            "gridcolor": "white",
            "linecolor": "white",
            "ticks": ""
           }
          },
          "scene": {
           "xaxis": {
            "backgroundcolor": "#E5ECF6",
            "gridcolor": "white",
            "gridwidth": 2,
            "linecolor": "white",
            "showbackground": true,
            "ticks": "",
            "zerolinecolor": "white"
           },
           "yaxis": {
            "backgroundcolor": "#E5ECF6",
            "gridcolor": "white",
            "gridwidth": 2,
            "linecolor": "white",
            "showbackground": true,
            "ticks": "",
            "zerolinecolor": "white"
           },
           "zaxis": {
            "backgroundcolor": "#E5ECF6",
            "gridcolor": "white",
            "gridwidth": 2,
            "linecolor": "white",
            "showbackground": true,
            "ticks": "",
            "zerolinecolor": "white"
           }
          },
          "shapedefaults": {
           "line": {
            "color": "#2a3f5f"
           }
          },
          "ternary": {
           "aaxis": {
            "gridcolor": "white",
            "linecolor": "white",
            "ticks": ""
           },
           "baxis": {
            "gridcolor": "white",
            "linecolor": "white",
            "ticks": ""
           },
           "bgcolor": "#E5ECF6",
           "caxis": {
            "gridcolor": "white",
            "linecolor": "white",
            "ticks": ""
           }
          },
          "title": {
           "x": 0.05
          },
          "xaxis": {
           "automargin": true,
           "gridcolor": "white",
           "linecolor": "white",
           "ticks": "",
           "title": {
            "standoff": 15
           },
           "zerolinecolor": "white",
           "zerolinewidth": 2
          },
          "yaxis": {
           "automargin": true,
           "gridcolor": "white",
           "linecolor": "white",
           "ticks": "",
           "title": {
            "standoff": 15
           },
           "zerolinecolor": "white",
           "zerolinewidth": 2
          }
         }
        },
        "title": {
         "text": "Horas más peligrosas para circular en Madrid"
        },
        "xaxis": {
         "anchor": "y",
         "domain": [
          0,
          1
         ],
         "title": {
          "text": "Hora del Día"
         }
        },
        "yaxis": {
         "anchor": "x",
         "domain": [
          0,
          1
         ],
         "title": {
          "text": "Número de Accidentes"
         }
        }
       }
      }
     },
     "metadata": {},
     "output_type": "display_data"
    }
   ],
   "source": [
    "accidentes_por_hora = df['hora_reducida'].value_counts().reset_index()\n",
    "accidentes_por_hora.columns = ['hora', 'n_accidentes']\n",
    "accidentes_por_hora = accidentes_por_hora.sort_values('hora')\n",
    "\n",
    "fig = px.bar(accidentes_por_hora, x='hora', y='n_accidentes', \n",
    "             color='n_accidentes', \n",
    "             color_continuous_scale='RdYlGn_r', \n",
    "             title='Horas más peligrosas para circular en Madrid')\n",
    "\n",
    "fig.update_layout(\n",
    "    xaxis_title='Hora del Día',\n",
    "    yaxis_title='Número de Accidentes',\n",
    "    font=dict(size=14),\n",
    "    plot_bgcolor='white',\n",
    "    coloraxis_colorbar=dict(title='Accidentes')\n",
    ")\n",
    "fig.show()\n"
   ]
  },
  {
   "cell_type": "code",
   "execution_count": 29,
   "metadata": {},
   "outputs": [
    {
     "data": {
      "image/png": "[encoded data removed]",
      "text/plain": [
       "<Figure size 1600x800 with 2 Axes>"
      ]
     },
     "metadata": {},
     "output_type": "display_data"
    }
   ],
   "source": [
    "from matplotlib import pyplot as plt\n",
    "import seaborn as sns\n",
    "\n",
    "df['día_semana'] = pd.to_datetime(df['fecha'], format='%d/%m/%Y').dt.day_name()\n",
    "\n",
    "mapeo_dias = {\n",
    "    'Monday': 'lunes', 'Tuesday': 'martes', 'Wednesday': 'miércoles',\n",
    "    'Thursday': 'jueves', 'Friday': 'viernes', 'Saturday': 'sábado', 'Sunday': 'domingo'\n",
    "}\n",
    "df['día_semana'] = df['día_semana'].map(mapeo_dias)\n",
    "\n",
    "accidentes_heatmap = df.groupby(['día_semana', 'hora_reducida']).size().unstack(fill_value=0)\n",
    "\n",
    "plt.figure(figsize=(16, 8))\n",
    "ax = sns.heatmap(accidentes_heatmap, cmap=\"RdYlGn_r\", annot=False, linewidths=0.5, linecolor='black')\n",
    "\n",
    "\n",
    "for y in range(1, len(accidentes_heatmap.index)):\n",
    "    ax.hlines(y, *ax.get_xlim(), colors='black', linewidth=4)\n",
    "\n",
    "\n",
    "plt.title('Accidentes por Hora del Día y Día de la Semana', fontsize=18, weight='bold', pad=20)\n",
    "plt.xlabel('Hora del Día', fontsize=14)\n",
    "plt.ylabel('Día de la Semana', fontsize=14, labelpad=20)\n",
    "plt.xticks(fontsize=12)\n",
    "plt.yticks(fontsize=12)\n",
    "\n",
    "plt.tight_layout()\n",
    "plt.show()\n"
   ]
  },
  {
   "cell_type": "code",
   "execution_count": 30,
   "metadata": {},
   "outputs": [
    {
     "data": {
      "image/png": "[encoded data removed]",
      "text/plain": [
       "<Figure size 1250x1020 with 7 Axes>"
      ]
     },
     "metadata": {},
     "output_type": "display_data"
    }
   ],
   "source": [
    "import calplot\n",
    "\n",
    "df['fecha_hora'] = pd.to_datetime(df['fecha'] + ' ' + df['hora'], format='%d/%m/%Y %H:%M:%S')\n",
    "\n",
    "accidentes_por_dia = df['fecha_hora'].dt.floor('d').value_counts()\n",
    "\n",
    "accidentes_por_dia = accidentes_por_dia.sort_index()\n",
    "\n",
    "calplot.calplot(accidentes_por_dia, cmap='RdYlGn_r', edgecolor = 'black', daylabels = ['L', 'M', 'X', \n",
    "                             'J', 'V', 'S', 'D'], suptitle='Accidentes por Día durante 6 años en Madrid', suptitle_kws={'fontsize': 18, \"weight\" : 'bold'},\n",
    "                             monthlabels = ['Ener', 'Feb', 'Mar', \n",
    "                               'Abr', 'Mayo', 'Jun',\n",
    "                               'Jul', 'Agos', 'Sept',\n",
    "                               'Oct', 'Nov', 'Dic'])\n",
    "\n",
    "plt.show()"
   ]
  },
  {
   "cell_type": "code",
   "execution_count": 126,
   "metadata": {},
   "outputs": [
    {
     "data": {
      "text/plain": [
       "Index(['num_expediente', 'fecha', 'hora', 'hora_reducida', 'localizacion',\n",
       "       'numero', 'cod_distrito', 'distrito', 'tipo_accidente',\n",
       "       'tipo_accidente_reducido', 'estado_meteorológico', 'tipo_vehiculo',\n",
       "       'tipo_vehiculo_reducido', 'tipo_persona', 'rango_edad', 'sexo',\n",
       "       'cod_lesividad', 'lesividad', 'positiva_alcohol', 'positiva_droga',\n",
       "       'día_semana', 'fecha_hora'],\n",
       "      dtype='object')"
      ]
     },
     "execution_count": 126,
     "metadata": {},
     "output_type": "execute_result"
    }
   ],
   "source": [
    "df.columns"
   ]
  }
 ],
 "metadata": {
  "kernelspec": {
   "display_name": "base",
   "language": "python",
   "name": "python3"
  },
  "language_info": {
   "codemirror_mode": {
    "name": "ipython",
    "version": 3
   },
   "file_extension": ".py",
   "mimetype": "text/x-python",
   "name": "python",
   "nbconvert_exporter": "python",
   "pygments_lexer": "ipython3",
   "version": "3.11.5"
  }
 },
 "nbformat": 4,
 "nbformat_minor": 2
}
